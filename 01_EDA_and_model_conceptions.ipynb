{
 "cells": [
  {
   "cell_type": "markdown",
   "metadata": {},
   "source": [
    "# Initial EDA and Modelling for Scania Truck Data Classification Problem\n",
    "Scania is looking to determine during a checkup whether the Air Pressure System (APS), the system that controls the trucks' ability to brake (among other things), is in need of replacement. They have provided a training set of 60,000 examples with over 170 features. Models are scored using a custom cost function that heavily penalizes Type II classification errors (false negatives) on a test set of 16,000 examples.\n",
    "\n",
    "I only had the training set from the [UCI ML Repository](https://archive.ics.uci.edu/ml/datasets/APS+Failure+at+Scania+Trucks) available for most of the project, so all references in this notebook to the *test set* refer to a *holdout set from the training data*. I later found the [full dataset hosted on Kaggle](https://www.kaggle.com/uciml/aps-failure-at-scania-trucks-data-set). It includes the original data, which I use below, as well as the test set used in later notebooks and a processed training and test sets that have been standardized, scrubbed, and re-formatted by Kaggle user [ahk3](https://www.kaggle.com/ahkahk). I will be taking a look at other users' strategies after I've gotten my own implementation and score finished.\n",
    "\n",
    "There are no label errors in the test and training sets. However, nearly every row is missing some kind of measurement. It will be necessary to impute the data, find a smart way of dropping NaN's, and learn from trends in the data."
   ]
  },
  {
   "cell_type": "code",
   "execution_count": 1,
   "metadata": {},
   "outputs": [
    {
     "name": "stderr",
     "output_type": "stream",
     "text": [
      "Using TensorFlow backend.\n"
     ]
    }
   ],
   "source": [
    "# Custom Modules\n",
    "import data_cleaning as dc\n",
    "from custom_metrics import scania_score\n",
    "from model_testing import cross_val_models\n",
    "\n",
    "# Data Containers\n",
    "import pandas as pd\n",
    "import numpy as np\n",
    "from collections import defaultdict\n",
    "import pickle\n",
    "\n",
    "# Visualization\n",
    "import matplotlib.pyplot as plt\n",
    "import seaborn as sns\n",
    "\n",
    "# Preprocessing: standardizing, undersampling, and oversampling, gridsearch\n",
    "from sklearn.pipeline import make_pipeline\n",
    "from sklearn.preprocessing import StandardScaler, normalize\n",
    "from sklearn.model_selection import GridSearchCV, train_test_split,\\\n",
    "cross_val_score, StratifiedKFold, StratifiedShuffleSplit, RandomizedSearchCV\n",
    "from sklearn.impute import SimpleImputer\n",
    "from sklearn.decomposition import PCA\n",
    "from sklearn.feature_selection import RFECV\n",
    "import imblearn\n",
    "\n",
    "#Pipeline Experimentation\n",
    "from sklearn.pipeline import make_pipeline\n",
    "\n",
    "# Models: dummy, kNN, logistic regression, Naive Bayes, SVM\n",
    "from sklearn.dummy import DummyClassifier\n",
    "from sklearn.neighbors import KNeighborsClassifier\n",
    "from sklearn.linear_model import LogisticRegression\n",
    "from sklearn.naive_bayes import GaussianNB, MultinomialNB, BernoulliNB\n",
    "from sklearn.svm import SVC, LinearSVC\n",
    "from sklearn.tree import DecisionTreeClassifier\n",
    "from sklearn.ensemble import RandomForestClassifier, GradientBoostingClassifier\n",
    "\n",
    "# Model evaluation metrics\n",
    "# ROC curve\n",
    "# Proprietary cost function\n",
    "from sklearn.metrics import accuracy_score, precision_score, recall_score,\\\n",
    "auc, log_loss, confusion_matrix, f1_score, make_scorer, roc_auc_score, roc_curve"
   ]
  },
  {
   "cell_type": "markdown",
   "metadata": {},
   "source": [
    "## EDA\n",
    "The following blocks read in the data and do exploratory work on the data. The results from this have been condensed in the `ready_aps_data()` function within `data_cleaning.py`, but I've left the blocks here intact for illustrative purposes.\n"
   ]
  },
  {
   "cell_type": "code",
   "execution_count": 2,
   "metadata": {},
   "outputs": [],
   "source": [
    "folder = 'aps-failure-at-scania-trucks-data-set/'\n",
    "file = 'aps_failure_training_set.csv'\n",
    "aps = pd.read_csv(folder+file)"
   ]
  },
  {
   "cell_type": "code",
   "execution_count": 3,
   "metadata": {},
   "outputs": [
    {
     "name": "stdout",
     "output_type": "stream",
     "text": [
      "<class 'pandas.core.frame.DataFrame'>\n",
      "RangeIndex: 60000 entries, 0 to 59999\n",
      "Columns: 171 entries, class to eg_000\n",
      "dtypes: int64(1), object(170)\n",
      "memory usage: 78.3+ MB\n"
     ]
    }
   ],
   "source": [
    "# Nearly all data enters the dataframe as a string object.\n",
    "aps.info()"
   ]
  },
  {
   "cell_type": "code",
   "execution_count": 4,
   "metadata": {},
   "outputs": [
    {
     "name": "stdout",
     "output_type": "stream",
     "text": [
      "Label values: ['neg' 'pos']\n",
      "Negative class observations: 59000\n",
      "Positive class observations: 1000\n"
     ]
    }
   ],
   "source": [
    "# Checking for weird labels\n",
    "print('Label values:', aps['class'].unique())\n",
    "mask = aps['class']=='neg'\n",
    "print('Negative class observations:',aps[mask]['class'].shape[0] )\n",
    "print('Positive class observations:', aps[~mask]['class'].shape[0])"
   ]
  },
  {
   "cell_type": "code",
   "execution_count": 5,
   "metadata": {},
   "outputs": [],
   "source": [
    "# Create new dataframe for EDA\n",
    "# For each column in dataframe, make that column numeric\n",
    "\n",
    "X = aps.iloc[:,1:].copy(deep=True)\n",
    "y = aps['class']"
   ]
  },
  {
   "cell_type": "markdown",
   "metadata": {},
   "source": [
    "Some columns are majority `NaN` values, to the extent that I don't think I'll gain any information from using them."
   ]
  },
  {
   "cell_type": "code",
   "execution_count": 8,
   "metadata": {},
   "outputs": [
    {
     "data": {
      "text/plain": [
       "na    771\n",
       "0     155\n",
       "2      38\n",
       "4      17\n",
       "6       9\n",
       "8       5\n",
       "48      1\n",
       "10      1\n",
       "14      1\n",
       "36      1\n",
       "12      1\n",
       "Name: ab_000, dtype: int64"
      ]
     },
     "execution_count": 8,
     "metadata": {},
     "output_type": "execute_result"
    }
   ],
   "source": [
    "# Sample of missing values, looking at the positive class only\n",
    "X[~mask]['ab_000'].value_counts(dropna=False)"
   ]
  },
  {
   "cell_type": "code",
   "execution_count": 9,
   "metadata": {},
   "outputs": [
    {
     "name": "stdout",
     "output_type": "stream",
     "text": [
      "Pre-conversion y\n",
      "object\n",
      "neg    59000\n",
      "pos     1000\n",
      "Name: class, dtype: int64\n",
      "Post-conversion y\n",
      "int64\n",
      "0    59000\n",
      "1     1000\n",
      "Name: class, dtype: int64\n"
     ]
    }
   ],
   "source": [
    "# Convert target variable to numeric\n",
    "\n",
    "print('Pre-conversion y', y.dtype, y.value_counts(), sep = '\\n')\n",
    "y = pd.Series([0 if lbl == 'neg' else 1 for lbl in y], name = 'class')\n",
    "print('Post-conversion y', y.dtype, y.value_counts(), sep = '\\n')"
   ]
  },
  {
   "cell_type": "markdown",
   "metadata": {},
   "source": [
    "At this point, all of the features have been imported as objects. This commonly happens in Pandas where at least any one value in the column is string-like, in this case 'na'. Items in a series must use the same object type, so to smooth the conversion to numeric I'm going change 'na' to 'nan'.  \n",
    "\n",
    "In practice, this could be avoided if the software generating the data used 'nan' instead of 'na'."
   ]
  },
  {
   "cell_type": "code",
   "execution_count": 10,
   "metadata": {},
   "outputs": [
    {
     "name": "stdout",
     "output_type": "stream",
     "text": [
      "<class 'pandas.core.frame.DataFrame'>\n",
      "RangeIndex: 60000 entries, 0 to 59999\n",
      "Columns: 170 entries, aa_000 to eg_000\n",
      "dtypes: int64(1), object(169)\n",
      "memory usage: 77.8+ MB\n",
      "None\n",
      "<class 'pandas.core.frame.DataFrame'>\n",
      "RangeIndex: 60000 entries, 0 to 59999\n",
      "Columns: 170 entries, aa_000 to eg_000\n",
      "dtypes: float64(169), int64(1)\n",
      "memory usage: 77.8 MB\n",
      "None\n"
     ]
    }
   ],
   "source": [
    "# Convert columns to numeric by first replacing 'na' with NaN for smoother conversion.\n",
    "print(X.info())\n",
    "\n",
    "X.replace('na', np.nan, inplace=True)\n",
    "for column in X.columns:\n",
    "    X[column]= pd.to_numeric(X[column], errors = 'raise')\n",
    "    \n",
    "print(X.info())"
   ]
  },
  {
   "cell_type": "markdown",
   "metadata": {},
   "source": [
    "## Dealing with NaN:\n",
    "Current options:\n",
    "* Drop columns with mostly nan, then drop any row with nan. How many observations do you lose?  \n",
    "* Experiment with [sklearn imputers](http://scikit-learn.org/stable/modules/impute.html)\n",
    "* Use a more sophisticated \n",
    "* Look at feature value distributions to determine which imputation methods (impute mean vs nearest neighbors vs mode, etc) are appropriate for which features."
   ]
  },
  {
   "cell_type": "markdown",
   "metadata": {},
   "source": [
    "The block below goes through the first process. Results are expalined afterwards."
   ]
  },
  {
   "cell_type": "code",
   "execution_count": 11,
   "metadata": {},
   "outputs": [
    {
     "name": "stdout",
     "output_type": "stream",
     "text": [
      "Columns above threshold: 28\n",
      "<class 'pandas.core.frame.DataFrame'>\n",
      "Int64Index: 54143 entries, 0 to 59999\n",
      "Columns: 142 entries, aa_000 to eg_000\n",
      "dtypes: float64(141), int64(1)\n",
      "memory usage: 59.1 MB\n"
     ]
    },
    {
     "data": {
      "image/png": "[encoded data removed]",
      "text/plain": [
       "<Figure size 432x288 with 1 Axes>"
      ]
     },
     "metadata": {
      "needs_background": "light"
     },
     "output_type": "display_data"
    }
   ],
   "source": [
    "#Dropping idea: Remove columns w/ NaN percent above a threshold, then drop all corresponding rows\n",
    "nan_cols = dc.get_nan_frac_cols(X, 0.15, graph=True)\n",
    "print('Columns above threshold:',len(nan_cols))\n",
    "\n",
    "X_no_nan = X.drop(nan_cols, axis=1).dropna()\n",
    "X_no_nan.info()"
   ]
  },
  {
   "cell_type": "code",
   "execution_count": 12,
   "metadata": {},
   "outputs": [
    {
     "name": "stdout",
     "output_type": "stream",
     "text": [
      "['ab_000', 'ad_000', 'bk_000', 'bl_000', 'bm_000', 'bn_000', 'bo_000', 'bp_000', 'bq_000', 'br_000', 'cf_000', 'cg_000', 'ch_000', 'cl_000', 'cm_000', 'co_000', 'cr_000', 'ct_000', 'cu_000', 'cv_000', 'cx_000', 'cy_000', 'cz_000', 'da_000', 'db_000', 'dc_000', 'ec_00', 'ed_000']\n"
     ]
    }
   ],
   "source": [
    "# Display columns to drop\n",
    "print(nan_cols)"
   ]
  },
  {
   "cell_type": "code",
   "execution_count": 13,
   "metadata": {},
   "outputs": [
    {
     "data": {
      "image/png": "[encoded data removed]",
      "text/plain": [
       "<Figure size 432x288 with 1 Axes>"
      ]
     },
     "metadata": {
      "needs_background": "light"
     },
     "output_type": "display_data"
    }
   ],
   "source": [
    "# Visualize the effect\n",
    "dc.get_nan_frac_cols(X_no_nan, 0.001, graph=True);"
   ]
  },
  {
   "cell_type": "code",
   "execution_count": 14,
   "metadata": {},
   "outputs": [
    {
     "name": "stdout",
     "output_type": "stream",
     "text": [
      "Total remaining observations: 54143\n",
      "Number of negative class: 53738\n",
      "Number of positive class: 405\n"
     ]
    }
   ],
   "source": [
    "# Check that we still have a good amount of negative and positive classes\n",
    "y_no_nan = y[X_no_nan.index].reset_index(drop=True)\n",
    "X_no_nan = X_no_nan.reset_index(drop=True)\n",
    "print('Total remaining observations:',y_no_nan.shape[0])\n",
    "print('Number of negative class:', np.sum(y_no_nan==0))\n",
    "print('Number of positive class:', y_no_nan[y_no_nan==1].sum())"
   ]
  },
  {
   "cell_type": "markdown",
   "metadata": {},
   "source": [
    "Dropping high columns with a high percentage of `NaN` values, then culling the observations with any `NaN` value still leaves 54,143 observations, down from 60,000. We also retained 142 of the 170 featurs. However, of the original 1000 positive examples, only 405 remain. The negative class still has 53,738 observations.  \n",
    "\n",
    "Percent loss, by class, when indiscriminantly dropping NaN values:\n",
    "* Positive class: 59.5%\n",
    "* Negative class:  0.7%  \n",
    "\n",
    "Takeaways:  \n",
    "1) I still have enough examples to train on if necessary.  \n",
    "2) Since the lack of measurements disproportionately affects one class, it could be that the number of missing values is correlated with the class type, and thus should become a feature.  \n",
    "3) Look at imputing the data instead of running a `pandas.DataFrame.dropna()` after removing high-NaN columns.\n",
    "\n",
    "**The above takeaways have been accounted for in the `data_cleaning.ready_aps_data` method. While features (columns) missing most measurements are still dropped, the remaining values are imputed. This retains all of the training set examples, doubles the amount of positive class examples, and increases model performance.**  \n",
    "\n",
    "I also believe it's the approach that conforms better with what would be needed in practice when some measurements are unavailable in the shop and the mechanics still need to make a decision."
   ]
  },
  {
   "cell_type": "markdown",
   "metadata": {},
   "source": [
    "## Adding database to SQL\n",
    "\n",
    "Part of the requirement for this project is to get the data into a SQL database on our AWS server. This would be much more useful if my data was distributed across several tables in a RDMS. I've created a command that iterates through the table columns and creates a string in Postgres SQL syntax that lets me copy/paste the output into a SQL command to create a table.\n",
    "\n",
    "I don't think it's efficient or safe (teasing out misspellings and the like) to manually type out the table creation command for 170 columns with their respective types. The whole point of relational databases is to partition out information in different tables and to then select only what you need, and this dataset doesn't seem like a good fit with that principle."
   ]
  },
  {
   "cell_type": "code",
   "execution_count": 16,
   "metadata": {},
   "outputs": [
    {
     "name": "stdout",
     "output_type": "stream",
     "text": [
      "CREATE TABLE aps_data (aa_000 FLOAT, ab_000 FLOAT, ac_000 FLOAT, ad_000 FLOAT, ae_000 FLOAT, af_000 FLOAT, ag_000 FLOAT, ag_001 FLOAT, ag_002 FLOAT, ag_003 FLOAT);\n"
     ]
    }
   ],
   "source": [
    "# 10 column demo. Remove indexing for full table.\n",
    "table_creation = tuple(column + ' FLOAT' for column in X.columns[:10])\n",
    "sql_table_columns = ', '.join(column for column in table_creation)\n",
    "print(f'CREATE TABLE aps_data ({sql_table_columns});' )"
   ]
  },
  {
   "cell_type": "markdown",
   "metadata": {},
   "source": [
    "## Testing Classifiers on Data\n",
    "Two approach philosophies:\n",
    "* See which naive model has best performance over K folds, then tune that model to optimal performance.\n",
    "* Tune every model, to include the number of folds in the data, then evaluate those models over 10 folds.\n",
    "\n",
    "The models run pretty slowly on the data, so I'm going for the first approach where I'll use the vanilla settings to narrow down the field, then tune the model(s) that stand out."
   ]
  },
  {
   "cell_type": "markdown",
   "metadata": {},
   "source": [
    "### Split stratified data into train/holdout, then split training data into stratified train/test folds\n",
    "\n",
    "The SKLearn method StratifiedShuffleSplit is used to split the data into a randomized training and holdout set that maintains the percentage of the positive class in the original data. From there, StratifiedKFolds is used to break the training set into cross-validation folds for assessing model performance.  \n",
    "\n",
    "The data set has a severe class imbalance, with the positive class (\"APS failure\") making up <2% of the set. Performing this split is necessary to ensure effective cross-validation."
   ]
  },
  {
   "cell_type": "markdown",
   "metadata": {},
   "source": [
    "**Edit:** Sklearn's `train_test_split()` method with the `stratify` parameter will accomplish the same as the method below. At the time I was focused on deliberately shuffling the dataset to make sure that some of the positive class eventually got into each CV fold."
   ]
  },
  {
   "cell_type": "code",
   "execution_count": 17,
   "metadata": {},
   "outputs": [],
   "source": [
    "# Make training and holdout sets\n",
    "\n",
    "sss = StratifiedShuffleSplit(n_splits=1,test_size=0.20, random_state=42)\n",
    "for train_index, holdout_index in sss.split(X_no_nan,y_no_nan):\n",
    "    #print(\"TRAIN:\", train_index, \"TEST:\", holdout_index)\n",
    "    X_train = X_no_nan.values[train_index]\n",
    "    X_test = X_no_nan.values[holdout_index]\n",
    "    y_train = y_no_nan.values[train_index]\n",
    "    y_test = y_no_nan.values[holdout_index]\n",
    "    \n",
    "    #Check that the train/test split does not overlap/include duplicates\n",
    "    assert(not set(train_index).intersection(set(holdout_index)))"
   ]
  },
  {
   "cell_type": "code",
   "execution_count": 18,
   "metadata": {},
   "outputs": [
    {
     "data": {
      "text/plain": [
       "(0.007479915042940253, 0.007480260423881424)"
      ]
     },
     "execution_count": 18,
     "metadata": {},
     "output_type": "execute_result"
    }
   ],
   "source": [
    "# Validate that splits are even\n",
    "np.sum(y_test==1)/len(y_test),  np.sum(y_train==1)/len(y_train)"
   ]
  },
  {
   "cell_type": "markdown",
   "metadata": {},
   "source": [
    "### Naive Performance of Classifiers\n",
    "The following blocks assess the performance of the vanilla models on the reduced data set using the ROC Area Under the Curve (AUC) assessment metric. A value closer to 1 is desirable.  \n",
    "\n",
    "Because of the heavy penalty on Type II errors in Scania's cost function, I've also gotten cross-validation scores for some of the models and data transformations using precision as well as ROC AUC.  \n",
    "\n",
    "Random Forest and Gradient Boosting classifiers stood out for their high AUC and relatively high precision in basic testing."
   ]
  },
  {
   "cell_type": "code",
   "execution_count": 19,
   "metadata": {},
   "outputs": [],
   "source": [
    "# Create stratified folds for 10 fold cross-validation\n",
    "skf = StratifiedKFold(n_splits=10, random_state=42)"
   ]
  },
  {
   "cell_type": "code",
   "execution_count": 20,
   "metadata": {},
   "outputs": [
    {
     "data": {
      "text/plain": [
       "0.4995303149252469"
      ]
     },
     "execution_count": 20,
     "metadata": {},
     "output_type": "execute_result"
    }
   ],
   "source": [
    "# SkLearn Dummy classifier \n",
    "np.mean(cross_val_score(DummyClassifier(),X_train,y_train,\n",
    "                        cv=skf, scoring = 'roc_auc'))"
   ]
  },
  {
   "cell_type": "code",
   "execution_count": 21,
   "metadata": {},
   "outputs": [
    {
     "name": "stdout",
     "output_type": "stream",
     "text": [
      "0.5\n",
      "162000\n"
     ]
    }
   ],
   "source": [
    "# Absolute baseline: Predicting everything as negative (no check needed)\n",
    "all_neg = np.zeros(len(y_train))\n",
    "print(roc_auc_score(y_train, all_neg))\n",
    "print(scania_score(y_train,all_neg))"
   ]
  },
  {
   "cell_type": "code",
   "execution_count": 24,
   "metadata": {},
   "outputs": [
    {
     "name": "stdout",
     "output_type": "stream",
     "text": [
      "0.5\n",
      "429900\n"
     ]
    }
   ],
   "source": [
    "# Baseline: predicting everything as positive (needing a check)\n",
    "all_pos = np.zeros(len(y_train))+1\n",
    "print(roc_auc_score(y_train, all_pos))\n",
    "print(scania_score(y_train, all_pos))"
   ]
  },
  {
   "cell_type": "markdown",
   "metadata": {},
   "source": [
    "From the above, it looks like it's cheaper to Scania to not ever check the APS instead of always checking the APS. I think there are plenty of reasons why this still isn't a smart or ethical approach (driver safety among them), so hopefully we can do better using some models."
   ]
  },
  {
   "cell_type": "code",
   "execution_count": 38,
   "metadata": {},
   "outputs": [],
   "source": [
    "classifiers = {\n",
    "    'knn': KNeighborsClassifier,\n",
    "    'lgr': LogisticRegression,\n",
    "    'gnb': GaussianNB,\n",
    "    #'mnb': MultinomialNB\n",
    "    'bnb': BernoulliNB,\n",
    "    'dtc': DecisionTreeClassifier,\n",
    "    'rfc': RandomForestClassifier,\n",
    "    'gbc': GradientBoostingClassifier,\n",
    "    'lsvc': LinearSVC,\n",
    "    # 'svc': SVC   ''' really, really slow'''\n",
    "}\n",
    "\n",
    "default_parameters = {\n",
    "    'knn': {},\n",
    "    'lgr': {'solver':'liblinear'},\n",
    "    'gnb': {},\n",
    "    #'mnb': {},\n",
    "    'bnb': {},\n",
    "    'dtc': {},\n",
    "    'rfc': {'n_estimators':100},\n",
    "    'gbc': {},\n",
    "    'lsvc': {},\n",
    "    # 'svc': {}\n",
    "}"
   ]
  },
  {
   "cell_type": "markdown",
   "metadata": {},
   "source": [
    "The following block from `model_abstraction.py` accepts a dictionary of model objects and returns the cross-validation scores for each."
   ]
  },
  {
   "cell_type": "code",
   "execution_count": 39,
   "metadata": {},
   "outputs": [
    {
     "name": "stderr",
     "output_type": "stream",
     "text": [
      "/anaconda3/lib/python3.6/site-packages/sklearn/svm/base.py:922: ConvergenceWarning: Liblinear failed to converge, increase the number of iterations.\n",
      "  \"the number of iterations.\", ConvergenceWarning)\n",
      "/anaconda3/lib/python3.6/site-packages/sklearn/svm/base.py:922: ConvergenceWarning: Liblinear failed to converge, increase the number of iterations.\n",
      "  \"the number of iterations.\", ConvergenceWarning)\n",
      "/anaconda3/lib/python3.6/site-packages/sklearn/svm/base.py:922: ConvergenceWarning: Liblinear failed to converge, increase the number of iterations.\n",
      "  \"the number of iterations.\", ConvergenceWarning)\n",
      "/anaconda3/lib/python3.6/site-packages/sklearn/svm/base.py:922: ConvergenceWarning: Liblinear failed to converge, increase the number of iterations.\n",
      "  \"the number of iterations.\", ConvergenceWarning)\n",
      "/anaconda3/lib/python3.6/site-packages/sklearn/svm/base.py:922: ConvergenceWarning: Liblinear failed to converge, increase the number of iterations.\n",
      "  \"the number of iterations.\", ConvergenceWarning)\n",
      "/anaconda3/lib/python3.6/site-packages/sklearn/svm/base.py:922: ConvergenceWarning: Liblinear failed to converge, increase the number of iterations.\n",
      "  \"the number of iterations.\", ConvergenceWarning)\n",
      "/anaconda3/lib/python3.6/site-packages/sklearn/svm/base.py:922: ConvergenceWarning: Liblinear failed to converge, increase the number of iterations.\n",
      "  \"the number of iterations.\", ConvergenceWarning)\n",
      "/anaconda3/lib/python3.6/site-packages/sklearn/svm/base.py:922: ConvergenceWarning: Liblinear failed to converge, increase the number of iterations.\n",
      "  \"the number of iterations.\", ConvergenceWarning)\n",
      "/anaconda3/lib/python3.6/site-packages/sklearn/svm/base.py:922: ConvergenceWarning: Liblinear failed to converge, increase the number of iterations.\n",
      "  \"the number of iterations.\", ConvergenceWarning)\n",
      "/anaconda3/lib/python3.6/site-packages/sklearn/svm/base.py:922: ConvergenceWarning: Liblinear failed to converge, increase the number of iterations.\n",
      "  \"the number of iterations.\", ConvergenceWarning)\n",
      "/anaconda3/lib/python3.6/site-packages/sklearn/svm/base.py:922: ConvergenceWarning: Liblinear failed to converge, increase the number of iterations.\n",
      "  \"the number of iterations.\", ConvergenceWarning)\n",
      "/anaconda3/lib/python3.6/site-packages/sklearn/svm/base.py:922: ConvergenceWarning: Liblinear failed to converge, increase the number of iterations.\n",
      "  \"the number of iterations.\", ConvergenceWarning)\n",
      "/anaconda3/lib/python3.6/site-packages/sklearn/svm/base.py:922: ConvergenceWarning: Liblinear failed to converge, increase the number of iterations.\n",
      "  \"the number of iterations.\", ConvergenceWarning)\n",
      "/anaconda3/lib/python3.6/site-packages/sklearn/svm/base.py:922: ConvergenceWarning: Liblinear failed to converge, increase the number of iterations.\n",
      "  \"the number of iterations.\", ConvergenceWarning)\n",
      "/anaconda3/lib/python3.6/site-packages/sklearn/svm/base.py:922: ConvergenceWarning: Liblinear failed to converge, increase the number of iterations.\n",
      "  \"the number of iterations.\", ConvergenceWarning)\n",
      "/anaconda3/lib/python3.6/site-packages/sklearn/svm/base.py:922: ConvergenceWarning: Liblinear failed to converge, increase the number of iterations.\n",
      "  \"the number of iterations.\", ConvergenceWarning)\n",
      "/anaconda3/lib/python3.6/site-packages/sklearn/svm/base.py:922: ConvergenceWarning: Liblinear failed to converge, increase the number of iterations.\n",
      "  \"the number of iterations.\", ConvergenceWarning)\n",
      "/anaconda3/lib/python3.6/site-packages/sklearn/svm/base.py:922: ConvergenceWarning: Liblinear failed to converge, increase the number of iterations.\n",
      "  \"the number of iterations.\", ConvergenceWarning)\n"
     ]
    },
    {
     "name": "stdout",
     "output_type": "stream",
     "text": [
      "defaultdict(<class 'str'>, {'knn': 0.833807743344118, 'lgr': 0.9372424524378467, 'gnb': 0.9496054072652556, 'bnb': 0.9347346238025758, 'dtc': 0.8271712237518238, 'rfc': 0.9729079877631868, 'gbc': 0.9573550512980468, 'lsvc': 0.7038931710686771})\n"
     ]
    },
    {
     "name": "stderr",
     "output_type": "stream",
     "text": [
      "/anaconda3/lib/python3.6/site-packages/sklearn/svm/base.py:922: ConvergenceWarning: Liblinear failed to converge, increase the number of iterations.\n",
      "  \"the number of iterations.\", ConvergenceWarning)\n"
     ]
    }
   ],
   "source": [
    "vanilla_unscaled_auc = cross_val_models(classifiers, X_train,y_train, use_cv=skf,\n",
    "                                        metric='roc_auc', params=default_parameters)\n",
    "print(vanilla_unscaled_auc)"
   ]
  },
  {
   "cell_type": "code",
   "execution_count": 42,
   "metadata": {},
   "outputs": [
    {
     "name": "stderr",
     "output_type": "stream",
     "text": [
      "/anaconda3/lib/python3.6/site-packages/sklearn/svm/base.py:922: ConvergenceWarning: Liblinear failed to converge, increase the number of iterations.\n",
      "  \"the number of iterations.\", ConvergenceWarning)\n",
      "/anaconda3/lib/python3.6/site-packages/sklearn/svm/base.py:922: ConvergenceWarning: Liblinear failed to converge, increase the number of iterations.\n",
      "  \"the number of iterations.\", ConvergenceWarning)\n",
      "/anaconda3/lib/python3.6/site-packages/sklearn/svm/base.py:922: ConvergenceWarning: Liblinear failed to converge, increase the number of iterations.\n",
      "  \"the number of iterations.\", ConvergenceWarning)\n",
      "/anaconda3/lib/python3.6/site-packages/sklearn/svm/base.py:922: ConvergenceWarning: Liblinear failed to converge, increase the number of iterations.\n",
      "  \"the number of iterations.\", ConvergenceWarning)\n",
      "/anaconda3/lib/python3.6/site-packages/sklearn/svm/base.py:922: ConvergenceWarning: Liblinear failed to converge, increase the number of iterations.\n",
      "  \"the number of iterations.\", ConvergenceWarning)\n",
      "/anaconda3/lib/python3.6/site-packages/sklearn/svm/base.py:922: ConvergenceWarning: Liblinear failed to converge, increase the number of iterations.\n",
      "  \"the number of iterations.\", ConvergenceWarning)\n",
      "/anaconda3/lib/python3.6/site-packages/sklearn/svm/base.py:922: ConvergenceWarning: Liblinear failed to converge, increase the number of iterations.\n",
      "  \"the number of iterations.\", ConvergenceWarning)\n",
      "/anaconda3/lib/python3.6/site-packages/sklearn/svm/base.py:922: ConvergenceWarning: Liblinear failed to converge, increase the number of iterations.\n",
      "  \"the number of iterations.\", ConvergenceWarning)\n",
      "/anaconda3/lib/python3.6/site-packages/sklearn/svm/base.py:922: ConvergenceWarning: Liblinear failed to converge, increase the number of iterations.\n",
      "  \"the number of iterations.\", ConvergenceWarning)\n",
      "/anaconda3/lib/python3.6/site-packages/sklearn/svm/base.py:922: ConvergenceWarning: Liblinear failed to converge, increase the number of iterations.\n",
      "  \"the number of iterations.\", ConvergenceWarning)\n",
      "/anaconda3/lib/python3.6/site-packages/sklearn/svm/base.py:922: ConvergenceWarning: Liblinear failed to converge, increase the number of iterations.\n",
      "  \"the number of iterations.\", ConvergenceWarning)\n",
      "/anaconda3/lib/python3.6/site-packages/sklearn/svm/base.py:922: ConvergenceWarning: Liblinear failed to converge, increase the number of iterations.\n",
      "  \"the number of iterations.\", ConvergenceWarning)\n",
      "/anaconda3/lib/python3.6/site-packages/sklearn/svm/base.py:922: ConvergenceWarning: Liblinear failed to converge, increase the number of iterations.\n",
      "  \"the number of iterations.\", ConvergenceWarning)\n",
      "/anaconda3/lib/python3.6/site-packages/sklearn/svm/base.py:922: ConvergenceWarning: Liblinear failed to converge, increase the number of iterations.\n",
      "  \"the number of iterations.\", ConvergenceWarning)\n",
      "/anaconda3/lib/python3.6/site-packages/sklearn/svm/base.py:922: ConvergenceWarning: Liblinear failed to converge, increase the number of iterations.\n",
      "  \"the number of iterations.\", ConvergenceWarning)\n",
      "/anaconda3/lib/python3.6/site-packages/sklearn/svm/base.py:922: ConvergenceWarning: Liblinear failed to converge, increase the number of iterations.\n",
      "  \"the number of iterations.\", ConvergenceWarning)\n",
      "/anaconda3/lib/python3.6/site-packages/sklearn/svm/base.py:922: ConvergenceWarning: Liblinear failed to converge, increase the number of iterations.\n",
      "  \"the number of iterations.\", ConvergenceWarning)\n",
      "/anaconda3/lib/python3.6/site-packages/sklearn/svm/base.py:922: ConvergenceWarning: Liblinear failed to converge, increase the number of iterations.\n",
      "  \"the number of iterations.\", ConvergenceWarning)\n"
     ]
    },
    {
     "name": "stdout",
     "output_type": "stream",
     "text": [
      "defaultdict(<class 'str'>, {'knn': 0.28674242424242424, 'lgr': 0.5743371212121212, 'gnb': 0.8521780303030303, 'bnb': 0.7716856060606061, 'dtc': 0.6206439393939395, 'rfc': 0.5865530303030303, 'gbc': 0.6017992424242424, 'lsvc': 0.3502840909090909})\n"
     ]
    },
    {
     "name": "stderr",
     "output_type": "stream",
     "text": [
      "/anaconda3/lib/python3.6/site-packages/sklearn/svm/base.py:922: ConvergenceWarning: Liblinear failed to converge, increase the number of iterations.\n",
      "  \"the number of iterations.\", ConvergenceWarning)\n"
     ]
    }
   ],
   "source": [
    "vanilla_unscaled_prcsn = cross_val_models(classifiers, X_train,y_train, use_cv=skf, metric='recall',\n",
    "                                         params=default_parameters)\n",
    "print(vanilla_unscaled_prcsn)"
   ]
  },
  {
   "cell_type": "markdown",
   "metadata": {},
   "source": [
    "### Naive Classifiers using Scaled Data\n",
    "\n",
    "Looking at the effects of scaled data on model performance. I would only expect changes from models operating in a linear space, such as KNeighbors, Logistic Regression, and SVC's."
   ]
  },
  {
   "cell_type": "code",
   "execution_count": 43,
   "metadata": {},
   "outputs": [],
   "source": [
    "ssx = StandardScaler()\n",
    "scaled_X_train = ssx.fit_transform(X_train)\n",
    "scaled_X_test = ssx.transform(X_test)"
   ]
  },
  {
   "cell_type": "code",
   "execution_count": 44,
   "metadata": {},
   "outputs": [
    {
     "name": "stderr",
     "output_type": "stream",
     "text": [
      "/anaconda3/lib/python3.6/site-packages/sklearn/linear_model/logistic.py:432: FutureWarning: Default solver will be changed to 'lbfgs' in 0.22. Specify a solver to silence this warning.\n",
      "  FutureWarning)\n",
      "/anaconda3/lib/python3.6/site-packages/sklearn/linear_model/logistic.py:432: FutureWarning: Default solver will be changed to 'lbfgs' in 0.22. Specify a solver to silence this warning.\n",
      "  FutureWarning)\n",
      "/anaconda3/lib/python3.6/site-packages/sklearn/linear_model/logistic.py:432: FutureWarning: Default solver will be changed to 'lbfgs' in 0.22. Specify a solver to silence this warning.\n",
      "  FutureWarning)\n",
      "/anaconda3/lib/python3.6/site-packages/sklearn/linear_model/logistic.py:432: FutureWarning: Default solver will be changed to 'lbfgs' in 0.22. Specify a solver to silence this warning.\n",
      "  FutureWarning)\n",
      "/anaconda3/lib/python3.6/site-packages/sklearn/linear_model/logistic.py:432: FutureWarning: Default solver will be changed to 'lbfgs' in 0.22. Specify a solver to silence this warning.\n",
      "  FutureWarning)\n",
      "/anaconda3/lib/python3.6/site-packages/sklearn/linear_model/logistic.py:432: FutureWarning: Default solver will be changed to 'lbfgs' in 0.22. Specify a solver to silence this warning.\n",
      "  FutureWarning)\n",
      "/anaconda3/lib/python3.6/site-packages/sklearn/linear_model/logistic.py:432: FutureWarning: Default solver will be changed to 'lbfgs' in 0.22. Specify a solver to silence this warning.\n",
      "  FutureWarning)\n",
      "/anaconda3/lib/python3.6/site-packages/sklearn/linear_model/logistic.py:432: FutureWarning: Default solver will be changed to 'lbfgs' in 0.22. Specify a solver to silence this warning.\n",
      "  FutureWarning)\n",
      "/anaconda3/lib/python3.6/site-packages/sklearn/linear_model/logistic.py:432: FutureWarning: Default solver will be changed to 'lbfgs' in 0.22. Specify a solver to silence this warning.\n",
      "  FutureWarning)\n",
      "/anaconda3/lib/python3.6/site-packages/sklearn/linear_model/logistic.py:432: FutureWarning: Default solver will be changed to 'lbfgs' in 0.22. Specify a solver to silence this warning.\n",
      "  FutureWarning)\n",
      "/anaconda3/lib/python3.6/site-packages/sklearn/ensemble/forest.py:248: FutureWarning: The default value of n_estimators will change from 10 in version 0.20 to 100 in 0.22.\n",
      "  \"10 in version 0.20 to 100 in 0.22.\", FutureWarning)\n",
      "/anaconda3/lib/python3.6/site-packages/sklearn/ensemble/forest.py:248: FutureWarning: The default value of n_estimators will change from 10 in version 0.20 to 100 in 0.22.\n",
      "  \"10 in version 0.20 to 100 in 0.22.\", FutureWarning)\n",
      "/anaconda3/lib/python3.6/site-packages/sklearn/ensemble/forest.py:248: FutureWarning: The default value of n_estimators will change from 10 in version 0.20 to 100 in 0.22.\n",
      "  \"10 in version 0.20 to 100 in 0.22.\", FutureWarning)\n",
      "/anaconda3/lib/python3.6/site-packages/sklearn/ensemble/forest.py:248: FutureWarning: The default value of n_estimators will change from 10 in version 0.20 to 100 in 0.22.\n",
      "  \"10 in version 0.20 to 100 in 0.22.\", FutureWarning)\n",
      "/anaconda3/lib/python3.6/site-packages/sklearn/ensemble/forest.py:248: FutureWarning: The default value of n_estimators will change from 10 in version 0.20 to 100 in 0.22.\n",
      "  \"10 in version 0.20 to 100 in 0.22.\", FutureWarning)\n",
      "/anaconda3/lib/python3.6/site-packages/sklearn/ensemble/forest.py:248: FutureWarning: The default value of n_estimators will change from 10 in version 0.20 to 100 in 0.22.\n",
      "  \"10 in version 0.20 to 100 in 0.22.\", FutureWarning)\n",
      "/anaconda3/lib/python3.6/site-packages/sklearn/ensemble/forest.py:248: FutureWarning: The default value of n_estimators will change from 10 in version 0.20 to 100 in 0.22.\n",
      "  \"10 in version 0.20 to 100 in 0.22.\", FutureWarning)\n",
      "/anaconda3/lib/python3.6/site-packages/sklearn/ensemble/forest.py:248: FutureWarning: The default value of n_estimators will change from 10 in version 0.20 to 100 in 0.22.\n",
      "  \"10 in version 0.20 to 100 in 0.22.\", FutureWarning)\n",
      "/anaconda3/lib/python3.6/site-packages/sklearn/ensemble/forest.py:248: FutureWarning: The default value of n_estimators will change from 10 in version 0.20 to 100 in 0.22.\n",
      "  \"10 in version 0.20 to 100 in 0.22.\", FutureWarning)\n",
      "/anaconda3/lib/python3.6/site-packages/sklearn/ensemble/forest.py:248: FutureWarning: The default value of n_estimators will change from 10 in version 0.20 to 100 in 0.22.\n",
      "  \"10 in version 0.20 to 100 in 0.22.\", FutureWarning)\n",
      "/anaconda3/lib/python3.6/site-packages/sklearn/svm/base.py:922: ConvergenceWarning: Liblinear failed to converge, increase the number of iterations.\n",
      "  \"the number of iterations.\", ConvergenceWarning)\n",
      "/anaconda3/lib/python3.6/site-packages/sklearn/svm/base.py:922: ConvergenceWarning: Liblinear failed to converge, increase the number of iterations.\n",
      "  \"the number of iterations.\", ConvergenceWarning)\n",
      "/anaconda3/lib/python3.6/site-packages/sklearn/svm/base.py:922: ConvergenceWarning: Liblinear failed to converge, increase the number of iterations.\n",
      "  \"the number of iterations.\", ConvergenceWarning)\n",
      "/anaconda3/lib/python3.6/site-packages/sklearn/svm/base.py:922: ConvergenceWarning: Liblinear failed to converge, increase the number of iterations.\n",
      "  \"the number of iterations.\", ConvergenceWarning)\n",
      "/anaconda3/lib/python3.6/site-packages/sklearn/svm/base.py:922: ConvergenceWarning: Liblinear failed to converge, increase the number of iterations.\n",
      "  \"the number of iterations.\", ConvergenceWarning)\n",
      "/anaconda3/lib/python3.6/site-packages/sklearn/svm/base.py:922: ConvergenceWarning: Liblinear failed to converge, increase the number of iterations.\n",
      "  \"the number of iterations.\", ConvergenceWarning)\n",
      "/anaconda3/lib/python3.6/site-packages/sklearn/svm/base.py:922: ConvergenceWarning: Liblinear failed to converge, increase the number of iterations.\n",
      "  \"the number of iterations.\", ConvergenceWarning)\n",
      "/anaconda3/lib/python3.6/site-packages/sklearn/svm/base.py:922: ConvergenceWarning: Liblinear failed to converge, increase the number of iterations.\n",
      "  \"the number of iterations.\", ConvergenceWarning)\n",
      "/anaconda3/lib/python3.6/site-packages/sklearn/svm/base.py:922: ConvergenceWarning: Liblinear failed to converge, increase the number of iterations.\n",
      "  \"the number of iterations.\", ConvergenceWarning)\n"
     ]
    },
    {
     "name": "stdout",
     "output_type": "stream",
     "text": [
      "defaultdict(<class 'str'>, {'knn': 0.8639242433053493, 'lgr': 0.9203227759098311, 'gnb': 0.9457376230906412, 'bnb': 0.9093221556105366, 'dtc': 0.8181143804584577, 'rfc': 0.9323435528523193, 'gbc': 0.9571990402983076, 'lsvc': 0.8733829484658167})\n"
     ]
    },
    {
     "name": "stderr",
     "output_type": "stream",
     "text": [
      "/anaconda3/lib/python3.6/site-packages/sklearn/svm/base.py:922: ConvergenceWarning: Liblinear failed to converge, increase the number of iterations.\n",
      "  \"the number of iterations.\", ConvergenceWarning)\n"
     ]
    }
   ],
   "source": [
    "vanilla_scaled = cross_val_models(classifiers, scaled_X_train,y_train, use_cv=skf, metric='roc_auc')\n",
    "print(vanilla_scaled)"
   ]
  },
  {
   "cell_type": "code",
   "execution_count": 46,
   "metadata": {},
   "outputs": [
    {
     "name": "stderr",
     "output_type": "stream",
     "text": [
      "/anaconda3/lib/python3.6/site-packages/sklearn/linear_model/logistic.py:432: FutureWarning: Default solver will be changed to 'lbfgs' in 0.22. Specify a solver to silence this warning.\n",
      "  FutureWarning)\n",
      "/anaconda3/lib/python3.6/site-packages/sklearn/linear_model/logistic.py:432: FutureWarning: Default solver will be changed to 'lbfgs' in 0.22. Specify a solver to silence this warning.\n",
      "  FutureWarning)\n",
      "/anaconda3/lib/python3.6/site-packages/sklearn/linear_model/logistic.py:432: FutureWarning: Default solver will be changed to 'lbfgs' in 0.22. Specify a solver to silence this warning.\n",
      "  FutureWarning)\n",
      "/anaconda3/lib/python3.6/site-packages/sklearn/linear_model/logistic.py:432: FutureWarning: Default solver will be changed to 'lbfgs' in 0.22. Specify a solver to silence this warning.\n",
      "  FutureWarning)\n",
      "/anaconda3/lib/python3.6/site-packages/sklearn/linear_model/logistic.py:432: FutureWarning: Default solver will be changed to 'lbfgs' in 0.22. Specify a solver to silence this warning.\n",
      "  FutureWarning)\n",
      "/anaconda3/lib/python3.6/site-packages/sklearn/linear_model/logistic.py:432: FutureWarning: Default solver will be changed to 'lbfgs' in 0.22. Specify a solver to silence this warning.\n",
      "  FutureWarning)\n",
      "/anaconda3/lib/python3.6/site-packages/sklearn/linear_model/logistic.py:432: FutureWarning: Default solver will be changed to 'lbfgs' in 0.22. Specify a solver to silence this warning.\n",
      "  FutureWarning)\n",
      "/anaconda3/lib/python3.6/site-packages/sklearn/linear_model/logistic.py:432: FutureWarning: Default solver will be changed to 'lbfgs' in 0.22. Specify a solver to silence this warning.\n",
      "  FutureWarning)\n",
      "/anaconda3/lib/python3.6/site-packages/sklearn/linear_model/logistic.py:432: FutureWarning: Default solver will be changed to 'lbfgs' in 0.22. Specify a solver to silence this warning.\n",
      "  FutureWarning)\n",
      "/anaconda3/lib/python3.6/site-packages/sklearn/linear_model/logistic.py:432: FutureWarning: Default solver will be changed to 'lbfgs' in 0.22. Specify a solver to silence this warning.\n",
      "  FutureWarning)\n",
      "/anaconda3/lib/python3.6/site-packages/sklearn/ensemble/forest.py:248: FutureWarning: The default value of n_estimators will change from 10 in version 0.20 to 100 in 0.22.\n",
      "  \"10 in version 0.20 to 100 in 0.22.\", FutureWarning)\n",
      "/anaconda3/lib/python3.6/site-packages/sklearn/ensemble/forest.py:248: FutureWarning: The default value of n_estimators will change from 10 in version 0.20 to 100 in 0.22.\n",
      "  \"10 in version 0.20 to 100 in 0.22.\", FutureWarning)\n",
      "/anaconda3/lib/python3.6/site-packages/sklearn/ensemble/forest.py:248: FutureWarning: The default value of n_estimators will change from 10 in version 0.20 to 100 in 0.22.\n",
      "  \"10 in version 0.20 to 100 in 0.22.\", FutureWarning)\n",
      "/anaconda3/lib/python3.6/site-packages/sklearn/ensemble/forest.py:248: FutureWarning: The default value of n_estimators will change from 10 in version 0.20 to 100 in 0.22.\n",
      "  \"10 in version 0.20 to 100 in 0.22.\", FutureWarning)\n",
      "/anaconda3/lib/python3.6/site-packages/sklearn/ensemble/forest.py:248: FutureWarning: The default value of n_estimators will change from 10 in version 0.20 to 100 in 0.22.\n",
      "  \"10 in version 0.20 to 100 in 0.22.\", FutureWarning)\n",
      "/anaconda3/lib/python3.6/site-packages/sklearn/ensemble/forest.py:248: FutureWarning: The default value of n_estimators will change from 10 in version 0.20 to 100 in 0.22.\n",
      "  \"10 in version 0.20 to 100 in 0.22.\", FutureWarning)\n",
      "/anaconda3/lib/python3.6/site-packages/sklearn/ensemble/forest.py:248: FutureWarning: The default value of n_estimators will change from 10 in version 0.20 to 100 in 0.22.\n",
      "  \"10 in version 0.20 to 100 in 0.22.\", FutureWarning)\n",
      "/anaconda3/lib/python3.6/site-packages/sklearn/ensemble/forest.py:248: FutureWarning: The default value of n_estimators will change from 10 in version 0.20 to 100 in 0.22.\n",
      "  \"10 in version 0.20 to 100 in 0.22.\", FutureWarning)\n",
      "/anaconda3/lib/python3.6/site-packages/sklearn/ensemble/forest.py:248: FutureWarning: The default value of n_estimators will change from 10 in version 0.20 to 100 in 0.22.\n",
      "  \"10 in version 0.20 to 100 in 0.22.\", FutureWarning)\n",
      "/anaconda3/lib/python3.6/site-packages/sklearn/ensemble/forest.py:248: FutureWarning: The default value of n_estimators will change from 10 in version 0.20 to 100 in 0.22.\n",
      "  \"10 in version 0.20 to 100 in 0.22.\", FutureWarning)\n",
      "/anaconda3/lib/python3.6/site-packages/sklearn/svm/base.py:922: ConvergenceWarning: Liblinear failed to converge, increase the number of iterations.\n",
      "  \"the number of iterations.\", ConvergenceWarning)\n",
      "/anaconda3/lib/python3.6/site-packages/sklearn/svm/base.py:922: ConvergenceWarning: Liblinear failed to converge, increase the number of iterations.\n",
      "  \"the number of iterations.\", ConvergenceWarning)\n",
      "/anaconda3/lib/python3.6/site-packages/sklearn/svm/base.py:922: ConvergenceWarning: Liblinear failed to converge, increase the number of iterations.\n",
      "  \"the number of iterations.\", ConvergenceWarning)\n",
      "/anaconda3/lib/python3.6/site-packages/sklearn/svm/base.py:922: ConvergenceWarning: Liblinear failed to converge, increase the number of iterations.\n",
      "  \"the number of iterations.\", ConvergenceWarning)\n",
      "/anaconda3/lib/python3.6/site-packages/sklearn/svm/base.py:922: ConvergenceWarning: Liblinear failed to converge, increase the number of iterations.\n",
      "  \"the number of iterations.\", ConvergenceWarning)\n",
      "/anaconda3/lib/python3.6/site-packages/sklearn/svm/base.py:922: ConvergenceWarning: Liblinear failed to converge, increase the number of iterations.\n",
      "  \"the number of iterations.\", ConvergenceWarning)\n",
      "/anaconda3/lib/python3.6/site-packages/sklearn/svm/base.py:922: ConvergenceWarning: Liblinear failed to converge, increase the number of iterations.\n",
      "  \"the number of iterations.\", ConvergenceWarning)\n",
      "/anaconda3/lib/python3.6/site-packages/sklearn/svm/base.py:922: ConvergenceWarning: Liblinear failed to converge, increase the number of iterations.\n",
      "  \"the number of iterations.\", ConvergenceWarning)\n",
      "/anaconda3/lib/python3.6/site-packages/sklearn/svm/base.py:922: ConvergenceWarning: Liblinear failed to converge, increase the number of iterations.\n",
      "  \"the number of iterations.\", ConvergenceWarning)\n"
     ]
    },
    {
     "name": "stdout",
     "output_type": "stream",
     "text": [
      "defaultdict(<class 'str'>, {'knn': 0.45681818181818185, 'lgr': 0.6053030303030302, 'gnb': 0.8704545454545455, 'bnb': 0.8609848484848485, 'dtc': 0.6207386363636364, 'rfc': 0.5095643939393939, 'gbc': 0.6081439393939394, 'lsvc': 0.5500946969696969})\n"
     ]
    },
    {
     "name": "stderr",
     "output_type": "stream",
     "text": [
      "/anaconda3/lib/python3.6/site-packages/sklearn/svm/base.py:922: ConvergenceWarning: Liblinear failed to converge, increase the number of iterations.\n",
      "  \"the number of iterations.\", ConvergenceWarning)\n"
     ]
    }
   ],
   "source": [
    "vanilla_scaled_prcsn = cross_val_models(classifiers, scaled_X_train,y_train, use_cv=skf, metric='recall')\n",
    "print(vanilla_scaled_prcsn)"
   ]
  },
  {
   "cell_type": "markdown",
   "metadata": {},
   "source": [
    "## Naive Classifiers using PCA-reduced data\n",
    "\n",
    "Currently working with over 140 features. None of the principal components capture a majority representation of the variance, however I'm going to try putting the reduced components through classification models just to see how the AUC scores change."
   ]
  },
  {
   "cell_type": "code",
   "execution_count": 47,
   "metadata": {},
   "outputs": [
    {
     "data": {
      "text/plain": [
       "array([0.34499792, 0.06027573, 0.04941278, 0.02883688, 0.02672339,\n",
       "       0.02257314, 0.01788312, 0.01726799, 0.01596444, 0.01534512])"
      ]
     },
     "execution_count": 47,
     "metadata": {},
     "output_type": "execute_result"
    }
   ],
   "source": [
    "pca = PCA(n_components=10)\n",
    "pca.fit(scaled_X_train)\n",
    "pca.explained_variance_ratio_"
   ]
  },
  {
   "cell_type": "code",
   "execution_count": 48,
   "metadata": {},
   "outputs": [],
   "source": [
    "pca_scaled_X_train = pca.transform(scaled_X_train)"
   ]
  },
  {
   "cell_type": "code",
   "execution_count": 49,
   "metadata": {},
   "outputs": [
    {
     "name": "stderr",
     "output_type": "stream",
     "text": [
      "/anaconda3/lib/python3.6/site-packages/sklearn/svm/base.py:922: ConvergenceWarning: Liblinear failed to converge, increase the number of iterations.\n",
      "  \"the number of iterations.\", ConvergenceWarning)\n",
      "/anaconda3/lib/python3.6/site-packages/sklearn/svm/base.py:922: ConvergenceWarning: Liblinear failed to converge, increase the number of iterations.\n",
      "  \"the number of iterations.\", ConvergenceWarning)\n",
      "/anaconda3/lib/python3.6/site-packages/sklearn/svm/base.py:922: ConvergenceWarning: Liblinear failed to converge, increase the number of iterations.\n",
      "  \"the number of iterations.\", ConvergenceWarning)\n",
      "/anaconda3/lib/python3.6/site-packages/sklearn/svm/base.py:922: ConvergenceWarning: Liblinear failed to converge, increase the number of iterations.\n",
      "  \"the number of iterations.\", ConvergenceWarning)\n",
      "/anaconda3/lib/python3.6/site-packages/sklearn/svm/base.py:922: ConvergenceWarning: Liblinear failed to converge, increase the number of iterations.\n",
      "  \"the number of iterations.\", ConvergenceWarning)\n",
      "/anaconda3/lib/python3.6/site-packages/sklearn/svm/base.py:922: ConvergenceWarning: Liblinear failed to converge, increase the number of iterations.\n",
      "  \"the number of iterations.\", ConvergenceWarning)\n",
      "/anaconda3/lib/python3.6/site-packages/sklearn/svm/base.py:922: ConvergenceWarning: Liblinear failed to converge, increase the number of iterations.\n",
      "  \"the number of iterations.\", ConvergenceWarning)\n",
      "/anaconda3/lib/python3.6/site-packages/sklearn/svm/base.py:922: ConvergenceWarning: Liblinear failed to converge, increase the number of iterations.\n",
      "  \"the number of iterations.\", ConvergenceWarning)\n",
      "/anaconda3/lib/python3.6/site-packages/sklearn/svm/base.py:922: ConvergenceWarning: Liblinear failed to converge, increase the number of iterations.\n",
      "  \"the number of iterations.\", ConvergenceWarning)\n"
     ]
    },
    {
     "name": "stdout",
     "output_type": "stream",
     "text": [
      "defaultdict(<class 'str'>, {'knn': 0.8707792664079737, 'lgr': 0.9620230568067276, 'gnb': 0.9567179008331749, 'bnb': 0.8840788048841521, 'dtc': 0.7838390336547612, 'rfc': 0.958045971314682, 'gbc': 0.9637973308627092, 'lsvc': 0.9515936361169265})\n"
     ]
    },
    {
     "name": "stderr",
     "output_type": "stream",
     "text": [
      "/anaconda3/lib/python3.6/site-packages/sklearn/svm/base.py:922: ConvergenceWarning: Liblinear failed to converge, increase the number of iterations.\n",
      "  \"the number of iterations.\", ConvergenceWarning)\n"
     ]
    }
   ],
   "source": [
    "vanilla_scaled_pca_auc = cross_val_models(classifiers, pca_scaled_X_train,y_train,\n",
    "                                      use_cv=skf, metric='roc_auc', params = default_parameters)\n",
    "print(vanilla_scaled_pca_auc)"
   ]
  },
  {
   "cell_type": "code",
   "execution_count": 50,
   "metadata": {},
   "outputs": [
    {
     "name": "stderr",
     "output_type": "stream",
     "text": [
      "/anaconda3/lib/python3.6/site-packages/sklearn/svm/base.py:922: ConvergenceWarning: Liblinear failed to converge, increase the number of iterations.\n",
      "  \"the number of iterations.\", ConvergenceWarning)\n",
      "/anaconda3/lib/python3.6/site-packages/sklearn/svm/base.py:922: ConvergenceWarning: Liblinear failed to converge, increase the number of iterations.\n",
      "  \"the number of iterations.\", ConvergenceWarning)\n",
      "/anaconda3/lib/python3.6/site-packages/sklearn/svm/base.py:922: ConvergenceWarning: Liblinear failed to converge, increase the number of iterations.\n",
      "  \"the number of iterations.\", ConvergenceWarning)\n",
      "/anaconda3/lib/python3.6/site-packages/sklearn/svm/base.py:922: ConvergenceWarning: Liblinear failed to converge, increase the number of iterations.\n",
      "  \"the number of iterations.\", ConvergenceWarning)\n",
      "/anaconda3/lib/python3.6/site-packages/sklearn/svm/base.py:922: ConvergenceWarning: Liblinear failed to converge, increase the number of iterations.\n",
      "  \"the number of iterations.\", ConvergenceWarning)\n",
      "/anaconda3/lib/python3.6/site-packages/sklearn/svm/base.py:922: ConvergenceWarning: Liblinear failed to converge, increase the number of iterations.\n",
      "  \"the number of iterations.\", ConvergenceWarning)\n",
      "/anaconda3/lib/python3.6/site-packages/sklearn/svm/base.py:922: ConvergenceWarning: Liblinear failed to converge, increase the number of iterations.\n",
      "  \"the number of iterations.\", ConvergenceWarning)\n",
      "/anaconda3/lib/python3.6/site-packages/sklearn/svm/base.py:922: ConvergenceWarning: Liblinear failed to converge, increase the number of iterations.\n",
      "  \"the number of iterations.\", ConvergenceWarning)\n",
      "/anaconda3/lib/python3.6/site-packages/sklearn/svm/base.py:922: ConvergenceWarning: Liblinear failed to converge, increase the number of iterations.\n",
      "  \"the number of iterations.\", ConvergenceWarning)\n"
     ]
    },
    {
     "name": "stdout",
     "output_type": "stream",
     "text": [
      "defaultdict(<class 'str'>, {'knn': 0.43863636363636366, 'lgr': 0.44176136363636365, 'gnb': 0.7505681818181819, 'bnb': 0.0, 'dtc': 0.5679924242424242, 'rfc': 0.5429924242424242, 'gbc': 0.47547348484848484, 'lsvc': 0.37339015151515154})\n"
     ]
    },
    {
     "name": "stderr",
     "output_type": "stream",
     "text": [
      "/anaconda3/lib/python3.6/site-packages/sklearn/svm/base.py:922: ConvergenceWarning: Liblinear failed to converge, increase the number of iterations.\n",
      "  \"the number of iterations.\", ConvergenceWarning)\n"
     ]
    }
   ],
   "source": [
    "vanilla_scaled_pca_prcsn = cross_val_models(classifiers, pca_scaled_X_train,y_train,\n",
    "                                      use_cv=skf, metric='recall', params = default_parameters)\n",
    "print(vanilla_scaled_pca_prcsn)"
   ]
  },
  {
   "cell_type": "markdown",
   "metadata": {},
   "source": [
    "### Basic Model for MVP Reporting Purposes\n",
    "The following model was used to provide an update to my cohort in a short 30 second long presentation on where my project was going. **Note:** At this point I hadn't found Scania's actual test set on Kaggle (I was using the version from UCI's ML Repository)."
   ]
  },
  {
   "cell_type": "code",
   "execution_count": 25,
   "metadata": {},
   "outputs": [],
   "source": [
    "# For MVP purposes, training vanilla GBM on X_train\n",
    "grb = GradientBoostingClassifier().fit(X_train,y_train)\n",
    "y_pred = grb.predict(X_test)"
   ]
  },
  {
   "cell_type": "code",
   "execution_count": 26,
   "metadata": {},
   "outputs": [
    {
     "name": "stdout",
     "output_type": "stream",
     "text": [
      "0.8266952909987273\n",
      "14100\n",
      "0.9233544416921791\n",
      "31110\n"
     ]
    }
   ],
   "source": [
    "print(roc_auc_score(y_test, y_pred))\n",
    "print(scania_score(y_test, y_pred))\n",
    "print(roc_auc_score(y_no_nan, grb.predict(X_no_nan)))\n",
    "print(scania_score(y_no_nan, grb.predict(X_no_nan)))"
   ]
  },
  {
   "cell_type": "code",
   "execution_count": 28,
   "metadata": {},
   "outputs": [
    {
     "data": {
      "text/plain": [
       "[<matplotlib.lines.Line2D at 0x1a2c00f048>]"
      ]
     },
     "execution_count": 28,
     "metadata": {},
     "output_type": "execute_result"
    },
    {
     "data": {
      "image/png": "[encoded data removed]",
      "text/plain": [
       "<Figure size 432x288 with 1 Axes>"
      ]
     },
     "metadata": {
      "needs_background": "light"
     },
     "output_type": "display_data"
    }
   ],
   "source": [
    "fpr, tpr, ths = roc_curve(y_test, grb.predict_proba(X_test)[:,1])\n",
    "plt.plot(fpr,tpr)"
   ]
  },
  {
   "cell_type": "code",
   "execution_count": 89,
   "metadata": {},
   "outputs": [
    {
     "data": {
      "text/plain": [
       "array([[10729,    19],\n",
       "       [   25,    56]])"
      ]
     },
     "execution_count": 89,
     "metadata": {},
     "output_type": "execute_result"
    }
   ],
   "source": [
    "# Test set results\n",
    "confusion_matrix(y_test, y_pred)"
   ]
  },
  {
   "cell_type": "code",
   "execution_count": 91,
   "metadata": {},
   "outputs": [
    {
     "data": {
      "text/plain": [
       "array([[53715,    23],\n",
       "       [   64,   341]])"
      ]
     },
     "execution_count": 91,
     "metadata": {},
     "output_type": "execute_result"
    }
   ],
   "source": [
    "# for mvp\n",
    "confusion_matrix(y_no_nan, y_pred_whole)"
   ]
  },
  {
   "cell_type": "markdown",
   "metadata": {},
   "source": [
    "# Webapp model\n",
    "Code for a simple flask web app using a very reduced version of the data. Scale it down to one feature with PCA then train a model. Export the model and the scaler to a pickle file, then bring it into the cupcake_or_muffin folder in the in_progress directory."
   ]
  },
  {
   "cell_type": "code",
   "execution_count": 78,
   "metadata": {},
   "outputs": [],
   "source": [
    "best_model = GradientBoostingClassifier().fit(pca_X_train,y_train)\n",
    "model_export = {'PCA_Reduction':pca,\n",
    "               'model': best_model}\n",
    "pickle.dump(model_export, open(\"scania_model_for_webapp.pkl\",\"wb\"))\n",
    "best_model.predict(np.array([.88]).reshape(-1,1))[0]"
   ]
  },
  {
   "cell_type": "code",
   "execution_count": 80,
   "metadata": {},
   "outputs": [],
   "source": []
  },
  {
   "cell_type": "markdown",
   "metadata": {},
   "source": [
    "# Model Tuning\n",
    "At this point I'm looking at 3 models, for different types of data:\n",
    "* Gradient Boosting on full data set, scaled\n",
    "* Random Forest and Gradient Boosting on PCA'ed data and regular data\n",
    "\n",
    "See [this guide](https://www.analyticsvidhya.com/blog/2016/02/complete-guide-parameter-tuning-gradient-boosting-gbm-python/) for Gradient Boosting hyperparameter tuning."
   ]
  },
  {
   "cell_type": "code",
   "execution_count": 30,
   "metadata": {},
   "outputs": [
    {
     "data": {
      "text/plain": [
       "RandomizedSearchCV(cv=StratifiedKFold(n_splits=10, random_state=42, shuffle=False),\n",
       "          error_score='raise-deprecating',\n",
       "          estimator=GradientBoostingClassifier(criterion='friedman_mse', init=None,\n",
       "              learning_rate=0.1, loss='deviance', max_depth=3,\n",
       "              max_features=None, max_leaf_nodes=None,\n",
       "              min_impurity_decrease=0.0, min_impurity_split=None,\n",
       "              min_samples_leaf=1, min_sampl...      subsample=1.0, tol=0.0001, validation_fraction=0.1,\n",
       "              verbose=0, warm_start=False),\n",
       "          fit_params=None, iid=False, n_iter=20, n_jobs=None,\n",
       "          param_distributions={'min_samples_split': [2, 10, 30, 100], 'max_depth': [3, 5, 10], 'max_features': ['auto', 'log2', None], 'n_estimators': [5, 10, 50, 100], 'subsample': [1, 0.9, 0.8, 0.7]},\n",
       "          pre_dispatch='2*n_jobs', random_state=None, refit=True,\n",
       "          return_train_score='warn', scoring='roc_auc', verbose=0)"
      ]
     },
     "execution_count": 30,
     "metadata": {},
     "output_type": "execute_result"
    }
   ],
   "source": [
    "'''    ********      MAKE THIS INTO A FUNCTION    ********        '''\n",
    "\n",
    "model = GradientBoostingClassifier\n",
    "const_params = {'random_state':42}\n",
    "tuning_params = {'min_samples_split':[2,10,30,100],\n",
    "                'max_depth':[3,5,10],\n",
    "                'max_features':['auto', 'log2', None],\n",
    "                'n_estimators':[5,10,50,100],\n",
    "                 'subsample':[1,0.9,0.8, 0.7],\n",
    "                }\n",
    "metric = 'roc_auc'\n",
    "use_cv = skf\n",
    "\n",
    "grid_gb_scaled = RandomizedSearchCV(model(**const_params), tuning_params, scoring = metric,\n",
    "                             iid=False, cv=use_cv, n_iter = 20)\n",
    "grid_gb_scaled.fit(scaled_X_train, y_train)"
   ]
  },
  {
   "cell_type": "code",
   "execution_count": 33,
   "metadata": {},
   "outputs": [
    {
     "name": "stdout",
     "output_type": "stream",
     "text": [
      "Best CV score: 0.9705760390894289\n",
      "Test Score 0.7581892927538629\n"
     ]
    }
   ],
   "source": [
    "print('Best CV score:', grid_gb_scaled.best_score_)\n",
    "print('Test Score', roc_auc_score(y_test,grid_gb_scaled.predict(scaled_X_test)))"
   ]
  },
  {
   "cell_type": "code",
   "execution_count": 31,
   "metadata": {},
   "outputs": [
    {
     "data": {
      "text/plain": [
       "19730"
      ]
     },
     "execution_count": 31,
     "metadata": {},
     "output_type": "execute_result"
    }
   ],
   "source": [
    "scania_score(y_test,grid_gb_scaled.predict(scaled_X_test))"
   ]
  },
  {
   "cell_type": "code",
   "execution_count": 32,
   "metadata": {},
   "outputs": [
    {
     "data": {
      "text/plain": [
       "{'subsample': 1,\n",
       " 'n_estimators': 50,\n",
       " 'min_samples_split': 2,\n",
       " 'max_features': 'log2',\n",
       " 'max_depth': 10}"
      ]
     },
     "execution_count": 32,
     "metadata": {},
     "output_type": "execute_result"
    }
   ],
   "source": [
    "grid_gb_scaled.best_params_"
   ]
  },
  {
   "cell_type": "code",
   "execution_count": 34,
   "metadata": {},
   "outputs": [
    {
     "data": {
      "text/plain": [
       "RandomizedSearchCV(cv=StratifiedKFold(n_splits=10, random_state=42, shuffle=False),\n",
       "          error_score='raise-deprecating',\n",
       "          estimator=GradientBoostingClassifier(criterion='friedman_mse', init=None,\n",
       "              learning_rate=0.1, loss='deviance', max_depth=3,\n",
       "              max_features=None, max_leaf_nodes=None,\n",
       "              min_impurity_decrease=0.0, min_impurity_split=None,\n",
       "              min_samples_leaf=1, min_sampl...      subsample=1.0, tol=0.0001, validation_fraction=0.1,\n",
       "              verbose=0, warm_start=False),\n",
       "          fit_params=None, iid=False, n_iter=10, n_jobs=None,\n",
       "          param_distributions={'min_samples_split': [2, 10, 30, 100], 'max_depth': [3, 5, 10], 'max_features': ['auto', 'log2', None], 'n_estimators': [5, 10, 50, 100], 'subsample': [1, 0.9, 0.8, 0.7]},\n",
       "          pre_dispatch='2*n_jobs', random_state=None, refit=True,\n",
       "          return_train_score='warn', scoring='roc_auc', verbose=0)"
      ]
     },
     "execution_count": 34,
     "metadata": {},
     "output_type": "execute_result"
    }
   ],
   "source": [
    "model = GradientBoostingClassifier\n",
    "const_params = {'random_state':42}\n",
    "tuning_params = {'min_samples_split':[2,10,30,100],\n",
    "                'max_depth':[3,5,10],\n",
    "                'max_features':['auto', 'log2', None],\n",
    "                'n_estimators':[5,10,50,100],\n",
    "                 'subsample':[1,0.9,0.8, 0.7],\n",
    "                }\n",
    "metric = 'roc_auc'\n",
    "use_cv = skf\n",
    "\n",
    "grid_gb_pca_scaled = RandomizedSearchCV(model(**const_params), tuning_params, scoring = metric,\n",
    "                             iid=False, cv=use_cv, n_iter = 10)\n",
    "grid_gb_pca_scaled.fit(pca_scaled_X_train, y_train)"
   ]
  },
  {
   "cell_type": "code",
   "execution_count": 35,
   "metadata": {},
   "outputs": [
    {
     "name": "stdout",
     "output_type": "stream",
     "text": [
      "19230\n"
     ]
    },
    {
     "data": {
      "text/plain": [
       "{'subsample': 0.9,\n",
       " 'n_estimators': 100,\n",
       " 'min_samples_split': 30,\n",
       " 'max_features': None,\n",
       " 'max_depth': 5}"
      ]
     },
     "execution_count": 35,
     "metadata": {},
     "output_type": "execute_result"
    }
   ],
   "source": [
    "print(scania_score(y_test,grid_gb_pca_scaled.predict(pca.transform(scaled_X_test))))\n",
    "grid_gb_pca_scaled.best_params_"
   ]
  },
  {
   "cell_type": "code",
   "execution_count": 37,
   "metadata": {},
   "outputs": [
    {
     "name": "stdout",
     "output_type": "stream",
     "text": [
      "Best CV score: 0.9653572315972003\n",
      "Test Score 0.7643621322600358\n"
     ]
    }
   ],
   "source": [
    "print('Best CV score:', grid_gb_pca_scaled.best_score_)\n",
    "print('Test Score', roc_auc_score(y_test,grid_gb_pca_scaled.predict(pca.transform(scaled_X_test))))"
   ]
  },
  {
   "cell_type": "markdown",
   "metadata": {},
   "source": [
    "### Bringing in Gradient Boosting algorithm from XGBoost library.\n",
    "The following blocks first test the general viability of an untrained XGBoost algorithm, then go into the appropriate cross-validation action."
   ]
  },
  {
   "cell_type": "code",
   "execution_count": 51,
   "metadata": {},
   "outputs": [],
   "source": [
    "import xgboost as xgb"
   ]
  },
  {
   "cell_type": "code",
   "execution_count": 77,
   "metadata": {},
   "outputs": [],
   "source": [
    "gbm = xgb.XGBClassifier( \n",
    "                       n_estimators=30000, #arbitrary large number b/c we're using early stopping\n",
    "                       max_depth=3,\n",
    "                       objective=\"binary:logistic\", \n",
    "                       subsample=1,\n",
    "                       min_child_weight=1,\n",
    "                       colsample_bytree=.8\n",
    "                      )\n",
    "\n",
    "eval_set=[(scaled_X_train,y_train),(scaled_X_test,y_test)] #tracking train/validation error as we go\n",
    "fit_model = gbm.fit( \n",
    "                    scaled_X_train, y_train, \n",
    "                    eval_set=eval_set,\n",
    "                    eval_metric='auc',\n",
    "                    early_stopping_rounds=50, # stop when validation error hasn't improved in this many rounds\n",
    "                    verbose=False #gives output log as below\n",
    "                   )"
   ]
  },
  {
   "cell_type": "code",
   "execution_count": 78,
   "metadata": {},
   "outputs": [
    {
     "name": "stdout",
     "output_type": "stream",
     "text": [
      "21010\n",
      "0.7406942204578973\n"
     ]
    },
    {
     "data": {
      "text/plain": [
       "array([[10747,     1],\n",
       "       [   42,    39]])"
      ]
     },
     "execution_count": 78,
     "metadata": {},
     "output_type": "execute_result"
    }
   ],
   "source": [
    "# Gauging model performance with default prediction threshold\n",
    "test = fit_model.predict(scaled_X_test, ntree_limit=gbm.best_ntree_limit)\n",
    "print(scania_score(y_test,test))\n",
    "print(roc_auc_score(y_test,test))\n",
    "confusion_matrix(y_test,test)"
   ]
  },
  {
   "cell_type": "code",
   "execution_count": 80,
   "metadata": {},
   "outputs": [
    {
     "name": "stdout",
     "output_type": "stream",
     "text": [
      "4460\n",
      "0.9677114777598588\n"
     ]
    },
    {
     "data": {
      "text/plain": [
       "array([[10452,   296],\n",
       "       [    3,    78]])"
      ]
     },
     "execution_count": 80,
     "metadata": {},
     "output_type": "execute_result"
    }
   ],
   "source": [
    "# Guaging model performance with lower threshold\n",
    "test = fit_model.predict_proba(scaled_X_test, ntree_limit=gbm.best_ntree_limit)[:,1] > 0.03\n",
    "print(scania_score(y_test,test))\n",
    "print(roc_auc_score(y_test,test))\n",
    "confusion_matrix(y_test,test)"
   ]
  },
  {
   "cell_type": "markdown",
   "metadata": {},
   "source": [
    "Actually cross-validating model, then checking score on test set."
   ]
  },
  {
   "cell_type": "code",
   "execution_count": 62,
   "metadata": {},
   "outputs": [
    {
     "name": "stdout",
     "output_type": "stream",
     "text": [
      "0.9249411200279136\n"
     ]
    }
   ],
   "source": [
    "cross_val_score(gmb, aps_dm, scoring='auc')\n",
    "\n",
    "cv_scores = []\n",
    "for train_idx, val_idx in skf.split(X_train, y_train):\n",
    "    \n",
    "    X_tr = X_train[train_idx]\n",
    "    y_tr = y_train[train_idx]\n",
    "    X_val = X_train[val_idx]\n",
    "    y_val = y_train[val_idx]\n",
    "   \n",
    "    gbm = xgb.XGBClassifier( \n",
    "                       n_estimators=30000, #arbitrary large number b/c we're using early stopping\n",
    "                       max_depth=3,\n",
    "                       objective=\"binary:logistic\",\n",
    "                       subsample=1,\n",
    "                       min_child_weight=1,\n",
    "                       colsample_bytree=.8\n",
    "                      )\n",
    "    eval_set=[(X_tr,y_tr),(X_val,y_val)] #tracking train/validation error as we go\n",
    "    fit_model = gbm.fit( \n",
    "                    X_tr, y_tr, \n",
    "                    eval_set=eval_set,\n",
    "                    eval_metric='auc',\n",
    "                    early_stopping_rounds=50, # stop when validation error hasn't improved in this many rounds\n",
    "                    verbose=False #gives output log as below\n",
    "                   )\n",
    "    \n",
    "    y_val_pred = fit_model.predict_proba(X_val, ntree_limit=gbm.best_ntree_limit)[:,1]\n",
    "    cv_scores.append(roc_auc_score(y_val,y_val_pred > 0.03))\n",
    "    \n",
    "    \n",
    "print(np.mean(cv_scores))"
   ]
  },
  {
   "cell_type": "code",
   "execution_count": 64,
   "metadata": {},
   "outputs": [
    {
     "name": "stdout",
     "output_type": "stream",
     "text": [
      "0.9571479276075481\n",
      "4250\n"
     ]
    },
    {
     "data": {
      "text/plain": [
       "array([[10623,   125],\n",
       "       [    6,    75]])"
      ]
     },
     "execution_count": 64,
     "metadata": {},
     "output_type": "execute_result"
    }
   ],
   "source": [
    "# Evaluating last fold's model\n",
    "cutoff = 0.03\n",
    "y_test_pred = fit_model.predict_proba(X_test)[:,1] > cutoff\n",
    "\n",
    "print(roc_auc_score(y_test,y_test_pred))\n",
    "print(scania_score(y_test,y_test_pred))\n",
    "confusion_matrix(y_test,y_test_pred)"
   ]
  },
  {
   "cell_type": "markdown",
   "metadata": {},
   "source": [
    "# Takeaways\n",
    "Ensemble models like Gradient Boosting and Random Forest seem to work the best. Random Forest, specifically, seems to score high on AUC but also on precision, which should help avoid false negatives. I haven't yet figured out how to integrate Scania's error metric into the SKLearn environment, so I'll need to adapt something like the above block into my own cross validation function for future analysis. I've been using the ROC AUC metric as a stand-in, and while it does let me cut the wheat from the chaff, it doesn't align well enough with the Scania cost to make a final model decision.\n",
    "\n",
    "The scores above look good, although they are not done on the true test set for the competition (see `02_classification_testing.ipynb` for that).  \n",
    "\n",
    "There are two process improvements I'm looking to add that can take this model further:\n",
    "* The above tests were done on a data set where I didn't impute any missing rows, meaning I lost half my positive class (albeit still keeping just under 500 and stratifying). **Imputing the data and engineering features that acknowledge the 'na' values** (because even missing measurements mean something) will have an effect on model performance.\n",
    "* **Tuning the decision threshold.** I didn't realize this until I was running XGBoost and discovered that it prints out decimal values by default on its predict method. This had an extraordinary effect on lowering Scania's custom cost score, and I imagine changing that threshold will have similar effects for the Random Forest Classifier as well."
   ]
  },
  {
   "cell_type": "code",
   "execution_count": null,
   "metadata": {},
   "outputs": [],
   "source": []
  },
  {
   "cell_type": "code",
   "execution_count": null,
   "metadata": {},
   "outputs": [],
   "source": []
  },
  {
   "cell_type": "code",
   "execution_count": 84,
   "metadata": {},
   "outputs": [
    {
     "data": {
      "text/plain": [
       "data      1.000000\n",
       "bj_000    0.492298\n",
       "am_0      0.478334\n",
       "aq_000    0.465263\n",
       "al_000    0.461792\n",
       "bb_000    0.449540\n",
       "bv_000    0.449540\n",
       "bu_000    0.449540\n",
       "cq_000    0.449540\n",
       "ap_000    0.440616\n",
       "bg_000    0.437689\n",
       "ah_000    0.437689\n",
       "ci_000    0.437532\n",
       "an_000    0.433719\n",
       "ao_000    0.425696\n",
       "dn_000    0.421138\n",
       "bh_000    0.420361\n",
       "bt_000    0.417634\n",
       "aa_000    0.417634\n",
       "ck_000    0.396130\n",
       "cc_000    0.391366\n",
       "bx_000    0.382500\n",
       "by_000    0.378954\n",
       "ee_005    0.370739\n",
       "cj_000    0.361503\n",
       "ds_000    0.359379\n",
       "dt_000    0.354983\n",
       "cs_004    0.351365\n",
       "ba_004    0.340400\n",
       "cn_004    0.335950\n",
       "            ...   \n",
       "ag_008    0.072418\n",
       "az_006    0.069360\n",
       "ai_000    0.065010\n",
       "cp_000    0.063463\n",
       "ag_009    0.058421\n",
       "az_008    0.053314\n",
       "ca_000    0.052061\n",
       "ay_009    0.049906\n",
       "dh_000    0.047875\n",
       "cb_000    0.047305\n",
       "dk_000    0.023207\n",
       "eg_000    0.020316\n",
       "cs_007    0.015957\n",
       "aj_000    0.015029\n",
       "af_000    0.014378\n",
       "ak_000    0.010191\n",
       "dm_000    0.007623\n",
       "ef_000    0.006269\n",
       "ea_000    0.005837\n",
       "az_009    0.002972\n",
       "ag_000    0.001886\n",
       "ae_000    0.001334\n",
       "cs_008    0.000018\n",
       "dz_000   -0.000281\n",
       "cs_009   -0.000386\n",
       "as_000   -0.000702\n",
       "dj_000   -0.000896\n",
       "dl_000   -0.002182\n",
       "ac_000   -0.031244\n",
       "cd_000         NaN\n",
       "Name: data, Length: 143, dtype: float64"
      ]
     },
     "execution_count": 84,
     "metadata": {},
     "output_type": "execute_result"
    }
   ],
   "source": [
    "X_no_nan['data'] = y_no_nan\n",
    "correlations = X_no_nan.corr()\n",
    "correlations['data'].sort_values(ascending=False)"
   ]
  },
  {
   "cell_type": "code",
   "execution_count": 86,
   "metadata": {},
   "outputs": [
    {
     "data": {
      "text/plain": [
       "1209600.0    54143\n",
       "Name: cd_000, dtype: int64"
      ]
     },
     "execution_count": 86,
     "metadata": {},
     "output_type": "execute_result"
    }
   ],
   "source": [
    "X_no_nan['cd_000'].value_counts()"
   ]
  },
  {
   "cell_type": "code",
   "execution_count": 87,
   "metadata": {},
   "outputs": [
    {
     "data": {
      "text/plain": [
       "1209600    59324\n",
       "na           676\n",
       "Name: cd_000, dtype: int64"
      ]
     },
     "execution_count": 87,
     "metadata": {},
     "output_type": "execute_result"
    }
   ],
   "source": [
    "aps['cd_000'].value_counts()"
   ]
  },
  {
   "cell_type": "code",
   "execution_count": null,
   "metadata": {},
   "outputs": [],
   "source": []
  }
 ],
 "metadata": {
  "kernelspec": {
   "display_name": "Python 3",
   "language": "python",
   "name": "python3"
  },
  "language_info": {
   "codemirror_mode": {
    "name": "ipython",
    "version": 3
   },
   "file_extension": ".py",
   "mimetype": "text/x-python",
   "name": "python",
   "nbconvert_exporter": "python",
   "pygments_lexer": "ipython3",
   "version": "3.6.5"
  }
 },
 "nbformat": 4,
 "nbformat_minor": 2
}
