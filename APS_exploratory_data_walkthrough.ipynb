{
 "cells": [
  {
   "cell_type": "markdown",
   "metadata": {},
   "source": [
    "# Take a look at Scania Truck data.\n",
    "[Database hosted at UCI Machine Learning Repository Site](http://archive.ics.uci.edu/ml/datasets/APS+Failure+at+Scania+Trucks#)\n",
    "\n",
    "There are no label errors. However, nearly every row is missing some kind of measurement. Will need to impute the data one way or another, as dropping rows with any missing measurements leaves only 691 of 60k rows."
   ]
  },
  {
   "cell_type": "code",
   "execution_count": 22,
   "metadata": {},
   "outputs": [],
   "source": [
    "def get_nan_frac_cols(df, cutoff = 0.25, graph=True):\n",
    "    '''\n",
    "    Returns column labels for columns with a NaN values fraction >= a cutoff fraction.\n",
    "    Intended use is to visualize how prevalent NaN values are in a dataset.\n",
    "    ---\n",
    "    Parameters\n",
    "    df: Pandas dataframe. Each column represents a feature and its data for all observations.\n",
    "    cutoff: decimal value, the acceptable fraction of data that can be NaN\n",
    "    graph: bool, visualizes the data if True\n",
    "    \n",
    "    Returns\n",
    "    List of dataframe column labels that have NaN fraction > cutoff fraction\n",
    "    '''\n",
    "    nan_frac_vec, cols_high_nan = [], []\n",
    "    \n",
    "    for column in df.columns:\n",
    "        nan_frac = df[column][df[column].isnull()].size/df.shape[0]\n",
    "        nan_frac_vec.append(nan_frac)\n",
    "\n",
    "        if nan_frac >= cutoff:\n",
    "            cols_high_nan.append(column)\n",
    "            \n",
    "    if graph:\n",
    "        sns.scatterplot(range(df.shape[1]),nan_frac_vec, alpha = 0.9, label='data')\n",
    "        plt.plot(range(df.shape[1]), np.ones(df.shape[1])*cutoff,'r-', label='Cutoff Threshold')\n",
    "        plt.legend(loc='best')\n",
    "        plt.title('Data by column with {}% cutoff'.format(100*cutoff))\n",
    "        plt.ylabel('Fraction of Values that are NaN')\n",
    "        plt.xlabel('Column position')\n",
    "    \n",
    "    return cols_high_nan"
   ]
  },
  {
   "cell_type": "code",
   "execution_count": 65,
   "metadata": {},
   "outputs": [],
   "source": [
    "def fit_score_model(features,target,model=DummyClassifier, metric=accuracy_score, params = {}):\n",
    "    '''\n",
    "    Function for creating a model instance and getting the desired classification error metric.\n",
    "    Defaults to sklearn dummy classifier with default parameters\n",
    "    ----\n",
    "    Inputs:\n",
    "    features: array-like object containing features for model fitting\n",
    "    target: 1-D array-like object cotaining labels for model fitting\n",
    "    model: sklearn model class or similar that estimates the target value from training data\n",
    "    metric: function for evaluating an estimator against the true labels.\n",
    "            Should take arguments (y_true, y_pred) in that order.\n",
    "    \n",
    "    Returns:\n",
    "    score: float value output by metric\n",
    "    '''\n",
    "    # Initiate model instance with relevant parameters\n",
    "    instance = model(**params)\n",
    "    \n",
    "    instance.fit(features,target)\n",
    "    \n",
    "    # Determine whether to use labels or probabilities when evaluating model\n",
    "    proba_based_metrics = [log_loss]\n",
    "    \n",
    "    if metric in proba_based_metrics:\n",
    "        return metric(target, instance.predict_proba(features))\n",
    "    else:\n",
    "        return metric(target, instance.predict(features))"
   ]
  },
  {
   "cell_type": "code",
   "execution_count": 101,
   "metadata": {},
   "outputs": [],
   "source": [
    "def scania_score(y_true,y_pred):\n",
    "    '''\n",
    "    Calculates Scania's custom score for APS classification problem in heavy trucks.\n",
    "    Type 2 errors are more heavily penalized, and a lower score is better.\n",
    "    \n",
    "    Score is 10*(no. of false positives) + 500*(no. of false negatives)\n",
    "    Type 1 error represents a mechanic performing an unnecessary inspection.\n",
    "    Type 2 error represents a failure to identify a faulty truck, possibly resulting in a break-down.\n",
    "    ---\n",
    "    Inputs:\n",
    "    y_true,y_pred: array-like objects of equal length representing true and predicted labels.\n",
    "    \n",
    "    Returns:\n",
    "    float value (>= 0) representing cost of Type 1 and 2 errors in classification.\n",
    "    '''\n",
    "    confmat = confusion_matrix(y_train, y_pred)\n",
    "    \n",
    "    return confmat[0,1]*10 + confmat[1,0]*500"
   ]
  },
  {
   "cell_type": "code",
   "execution_count": 70,
   "metadata": {},
   "outputs": [],
   "source": [
    "# Data Containers\n",
    "import pandas as pd\n",
    "import numpy as np\n",
    "\n",
    "# Visualization\n",
    "import matplotlib.pyplot as plt\n",
    "import seaborn as sns\n",
    "\n",
    "# Preprocessing: standardizing, undersampling, and oversampling, gridsearch\n",
    "from sklearn.pipeline import make_pipeline\n",
    "from sklearn.preprocessing import StandardScaler\n",
    "from sklearn.model_selection import GridSearchCV, train_test_split\n",
    "\n",
    "# Models: dummy, kNN, logistic regression, Naive Bayes, SVM\n",
    "from sklearn.dummy import DummyClassifier\n",
    "from sklearn.neighbors import KNeighborsClassifier\n",
    "from sklearn.linear_model import LogisticRegression\n",
    "from sklearn.naive_bayes import GaussianNB, MultinomialNB, BernoulliNB\n",
    "from sklearn.svm import SVC, LinearSVC\n",
    "\n",
    "# Model evaluation metrics\n",
    "# ROC curve\n",
    "# Proprietary cost function\n",
    "from sklearn.metrics import accuracy_score, precision_score, recall_score, auc, log_loss, confusion_matrix"
   ]
  },
  {
   "cell_type": "code",
   "execution_count": 3,
   "metadata": {},
   "outputs": [],
   "source": [
    "# Original dataset has some text at the top of the csv, above the headers.\n",
    "# File below has that text removed, leaving only header row and data.\n",
    "aps = pd.read_csv('./aps_failure_training_set_no_headers.csv')"
   ]
  },
  {
   "cell_type": "code",
   "execution_count": 4,
   "metadata": {},
   "outputs": [
    {
     "name": "stdout",
     "output_type": "stream",
     "text": [
      "<class 'pandas.core.frame.DataFrame'>\n",
      "RangeIndex: 60000 entries, 0 to 59999\n",
      "Columns: 171 entries, class to eg_000\n",
      "dtypes: int64(1), object(170)\n",
      "memory usage: 78.3+ MB\n"
     ]
    }
   ],
   "source": [
    "# Nearly all data enters the dataframe as a string object.\n",
    "aps.info()"
   ]
  },
  {
   "cell_type": "code",
   "execution_count": 13,
   "metadata": {},
   "outputs": [
    {
     "name": "stdout",
     "output_type": "stream",
     "text": [
      "Label values: ['neg' 'pos']\n",
      "Negative class observations: 59000\n",
      "Positive class observations: 1000\n"
     ]
    }
   ],
   "source": [
    "# Checking for weird labels\n",
    "print('Label values:', aps['class'].unique())\n",
    "mask = aps['class']=='neg'\n",
    "print('Negative class observations:',aps[mask]['class'].shape[0] )\n",
    "print('Positive class observations:', aps[~mask]['class'].shape[0])"
   ]
  },
  {
   "cell_type": "code",
   "execution_count": 14,
   "metadata": {},
   "outputs": [],
   "source": [
    "# Create new dataframe for EDA\n",
    "# For each column in dataframe, make that column numeric\n",
    "\n",
    "X = aps.iloc[:,1:].copy(deep=True)\n",
    "y = aps['class']"
   ]
  },
  {
   "cell_type": "code",
   "execution_count": 15,
   "metadata": {},
   "outputs": [
    {
     "name": "stdout",
     "output_type": "stream",
     "text": [
      "Pre-conversion y\n",
      "object\n",
      "neg    59000\n",
      "pos     1000\n",
      "Name: class, dtype: int64\n",
      "Post-conversion y\n",
      "int64\n",
      "0    59000\n",
      "1     1000\n",
      "Name: class, dtype: int64\n"
     ]
    }
   ],
   "source": [
    "# Convert target variable to numeric\n",
    "\n",
    "print('Pre-conversion y', y.dtype, y.value_counts(), sep = '\\n')\n",
    "y = pd.Series([0 if lbl == 'neg' else 1 for lbl in y], name = 'class')\n",
    "print('Post-conversion y', y.dtype, y.value_counts(), sep = '\\n')"
   ]
  },
  {
   "cell_type": "code",
   "execution_count": 16,
   "metadata": {},
   "outputs": [
    {
     "name": "stdout",
     "output_type": "stream",
     "text": [
      "<class 'pandas.core.frame.DataFrame'>\n",
      "RangeIndex: 60000 entries, 0 to 59999\n",
      "Columns: 170 entries, aa_000 to eg_000\n",
      "dtypes: int64(1), object(169)\n",
      "memory usage: 77.8+ MB\n",
      "None\n",
      "<class 'pandas.core.frame.DataFrame'>\n",
      "RangeIndex: 60000 entries, 0 to 59999\n",
      "Columns: 170 entries, aa_000 to eg_000\n",
      "dtypes: float64(169), int64(1)\n",
      "memory usage: 77.8 MB\n",
      "None\n"
     ]
    }
   ],
   "source": [
    "# Convert columns to numeric.\n",
    "print(X.info())\n",
    "for column in X.columns:\n",
    "    X[column]= pd.to_numeric(X[column], errors = 'coerce')\n",
    "    \n",
    "print(X.info())"
   ]
  },
  {
   "cell_type": "code",
   "execution_count": 23,
   "metadata": {},
   "outputs": [
    {
     "name": "stdout",
     "output_type": "stream",
     "text": [
      "Columns above threshold: 28\n"
     ]
    },
    {
     "data": {
      "image/png": "[encoded data removed]",
      "text/plain": [
       "<Figure size 432x288 with 1 Axes>"
      ]
     },
     "metadata": {
      "needs_background": "light"
     },
     "output_type": "display_data"
    }
   ],
   "source": []
  },
  {
   "cell_type": "markdown",
   "metadata": {},
   "source": [
    "## Dealing with NaN:\n",
    "Current options:\n",
    "* drop columns with mostly nan, then drop any row with nan. How many observations do you lose?  \n",
    "* experiment with sklearn.preprocessing.Imputer\n",
    "* read sklearn [imputation guide](http://scikit-learn.org/stable/modules/impute.html)\n",
    "* take mean values\n",
    "* use kNN with features that aren't null\n",
    "* determine on which features it would be reasonable to impute"
   ]
  },
  {
   "cell_type": "code",
   "execution_count": 27,
   "metadata": {},
   "outputs": [
    {
     "name": "stdout",
     "output_type": "stream",
     "text": [
      "Columns above threshold: 28\n",
      "<class 'pandas.core.frame.DataFrame'>\n",
      "Int64Index: 54143 entries, 0 to 59999\n",
      "Columns: 142 entries, aa_000 to eg_000\n",
      "dtypes: float64(141), int64(1)\n",
      "memory usage: 59.1 MB\n"
     ]
    },
    {
     "data": {
      "image/png": "[encoded data removed]",
      "text/plain": [
       "<Figure size 432x288 with 1 Axes>"
      ]
     },
     "metadata": {
      "needs_background": "light"
     },
     "output_type": "display_data"
    }
   ],
   "source": [
    "#Dropping idea: Remove columns w/ NaN percent above a threshold, then drop all corresponding rows\n",
    "nan_cols = get_nan_frac_cols(X, 0.15, graph=True)\n",
    "print('Columns above threshold:',len(nan_cols))\n",
    "\n",
    "X_no_nan = X.drop(nan_cols, axis=1).dropna()\n",
    "X_no_nan.info()"
   ]
  },
  {
   "cell_type": "code",
   "execution_count": 32,
   "metadata": {},
   "outputs": [
    {
     "data": {
      "text/plain": [
       "[]"
      ]
     },
     "execution_count": 32,
     "metadata": {},
     "output_type": "execute_result"
    },
    {
     "data": {
      "image/png": "[encoded data removed]",
      "text/plain": [
       "<Figure size 432x288 with 1 Axes>"
      ]
     },
     "metadata": {
      "needs_background": "light"
     },
     "output_type": "display_data"
    }
   ],
   "source": [
    "# Visualize the effect\n",
    "get_nan_frac_cols(X_no_nan, 0.001)"
   ]
  },
  {
   "cell_type": "code",
   "execution_count": 34,
   "metadata": {},
   "outputs": [
    {
     "name": "stdout",
     "output_type": "stream",
     "text": [
      "Total remaining observations: 54143\n",
      "Number of negative class: 53738\n",
      "Number of positive class: 405\n"
     ]
    }
   ],
   "source": [
    "# Check that we still have a good amount of negative and positive classes\n",
    "y_no_nan = y[X_no_nan.index]\n",
    "print('Total remaining observations:',y_no_nan.shape[0])\n",
    "print('Number of negative class:', np.sum(y_no_nan==0))\n",
    "print('Number of positive class:', y_no_nan[y_no_nan==1].sum())"
   ]
  },
  {
   "cell_type": "markdown",
   "metadata": {},
   "source": [
    "Dropping high columns with a high percentage of `NaN` values, then culling the observations with any `NaN` value still leaves 54,143 observations, down from 60,000. We also retained 142 of the 170 featurs. However, of the original 1000 positive examples, only 405 remain. The negative class still has 53,738 observations.  \n",
    "\n",
    "Percent loss, by class, when dropping NaN values:\n",
    "* Positive class: 59.5%\n",
    "* Negative class:  0.7%  \n",
    "\n",
    "Takeaways:  \n",
    "1) I still have enough examples to train on.  \n",
    "2) Since the lack of measurements disproportionately affects one class, it could be that the number of missing values is correlated with the class type, and thus should become a feature. To incorporate this, I'd need to impute values (strategically) for the observations that were eliminated."
   ]
  },
  {
   "cell_type": "markdown",
   "metadata": {},
   "source": [
    "## Adding database to SQL\n",
    "Because I don't think it's efficient to write out the 170 columns with their respective types, so I'm going to try to manipulate the columns list into an SQL table creation command."
   ]
  },
  {
   "cell_type": "code",
   "execution_count": 81,
   "metadata": {},
   "outputs": [
    {
     "name": "stdout",
     "output_type": "stream",
     "text": [
      "('aa_000 col_type', 'ab_000 col_type')\n"
     ]
    }
   ],
   "source": [
    "test = tuple(column + ' col_type' for column in X.columns[:2])\n",
    "print(test)"
   ]
  },
  {
   "cell_type": "code",
   "execution_count": 83,
   "metadata": {},
   "outputs": [
    {
     "data": {
      "text/plain": [
       "'aa_000 col_type, ab_000 col_type'"
      ]
     },
     "execution_count": 83,
     "metadata": {},
     "output_type": "execute_result"
    }
   ],
   "source": [
    "', '.join(thing for thing in test)"
   ]
  },
  {
   "cell_type": "code",
   "execution_count": null,
   "metadata": {},
   "outputs": [],
   "source": []
  },
  {
   "cell_type": "markdown",
   "metadata": {},
   "source": [
    "## Testing Classifiers on Data\n",
    "Two approach philosophies:\n",
    "* See which naive model has best performance over K folds, then tune that model to optimal performance.\n",
    "* Tune every model, to include the number of folds in the data, then evaluate those models over 10 folds.\n",
    "\n",
    "### Naive Performance of Classifiers\n",
    "Grab small subsection of data while setting up the pipeline so as not to make the runtime too large. Or don't."
   ]
  },
  {
   "cell_type": "code",
   "execution_count": null,
   "metadata": {},
   "outputs": [],
   "source": [
    "# Make pipeline object, then "
   ]
  },
  {
   "cell_type": "code",
   "execution_count": 37,
   "metadata": {},
   "outputs": [],
   "source": [
    "X_train, X_test, y_train, y_test = train_test_split(X_no_nan,y_no_nan, test_size = 0.25, random_state = 42)"
   ]
  },
  {
   "cell_type": "code",
   "execution_count": 40,
   "metadata": {},
   "outputs": [
    {
     "data": {
      "text/plain": [
       "0.9923412219568055"
      ]
     },
     "execution_count": 40,
     "metadata": {},
     "output_type": "execute_result"
    }
   ],
   "source": [
    "# Absolute baseline: Predicting everything as negative\n",
    "all_neg = np.zeros(len(y_train))\n",
    "accuracy_score(y_train, all_neg)"
   ]
  },
  {
   "cell_type": "code",
   "execution_count": 99,
   "metadata": {},
   "outputs": [
    {
     "data": {
      "text/plain": [
       "158160"
      ]
     },
     "execution_count": 99,
     "metadata": {},
     "output_type": "execute_result"
    }
   ],
   "source": [
    "# Sklean Dummy Classifier\n",
    "fit_score_model(X_train,y_train,DummyClassifier, scania_score)"
   ]
  },
  {
   "cell_type": "code",
   "execution_count": 107,
   "metadata": {},
   "outputs": [
    {
     "name": "stdout",
     "output_type": "stream",
     "text": [
      "1 0\n",
      "2 84500\n",
      "3 62270\n",
      "4 91090\n",
      "5 82370\n",
      "6 106210\n",
      "7 95840\n",
      "8 110690\n",
      "9 100380\n",
      "10 109200\n",
      "1 0\n"
     ]
    }
   ],
   "source": [
    "# K Nearest Neighbors\n",
    "best_k, min_score = None, 1e6\n",
    "for k in range(1,11):\n",
    "    knn_params = {'n_neighbors':k}\n",
    "    score = fit_score_model(X_train,y_train, model=KNeighborsClassifier, metric = scania_score, params=knn_params)\n",
    "    \n",
    "    print(k,score)\n",
    "    \n",
    "    if score < min_score:\n",
    "        best_k = k\n",
    "        min_score = score\n",
    "\n",
    "print(best_k,min_score)"
   ]
  },
  {
   "cell_type": "code",
   "execution_count": 109,
   "metadata": {},
   "outputs": [
    {
     "data": {
      "text/plain": [
       "58840"
      ]
     },
     "execution_count": 109,
     "metadata": {},
     "output_type": "execute_result"
    }
   ],
   "source": [
    "# Logistic Regression\n",
    "lgr_params = {'C':1}\n",
    "fit_score_model(X_train, y_train, model = LogisticRegression, metric = scania_score, params = lgr_params)"
   ]
  },
  {
   "cell_type": "code",
   "execution_count": 110,
   "metadata": {},
   "outputs": [
    {
     "data": {
      "text/plain": [
       "30100"
      ]
     },
     "execution_count": 110,
     "metadata": {},
     "output_type": "execute_result"
    }
   ],
   "source": [
    "# Naive Bayes, Gaussian\n",
    "nb_params = {}\n",
    "fit_score_model(X_train, y_train, model = GaussianNB, metric = scania_score, params = nb_params)"
   ]
  },
  {
   "cell_type": "code",
   "execution_count": 113,
   "metadata": {},
   "outputs": [
    {
     "data": {
      "text/plain": [
       "288800"
      ]
     },
     "execution_count": 113,
     "metadata": {},
     "output_type": "execute_result"
    }
   ],
   "source": [
    "# Naive Bayes, Multinomial\n",
    "nb_params = {'alpha':1.0}\n",
    "fit_score_model(X_train, y_train, model = MultinomialNB, metric = scania_score, params = nb_params)"
   ]
  },
  {
   "cell_type": "code",
   "execution_count": 114,
   "metadata": {},
   "outputs": [
    {
     "data": {
      "text/plain": [
       "59550"
      ]
     },
     "execution_count": 114,
     "metadata": {},
     "output_type": "execute_result"
    }
   ],
   "source": [
    "# Naive Bayes, Bernoulli\n",
    "nb_params = {'alpha':1.0}\n",
    "fit_score_model(X_train, y_train, model = BernoulliNB, metric = scania_score, params = nb_params)"
   ]
  },
  {
   "cell_type": "code",
   "execution_count": null,
   "metadata": {},
   "outputs": [],
   "source": [
    "'''\n",
    "SVM\n",
    "really fucking slow\n",
    "kernel options: 'linear', 'poly', 'rbf', 'sigmoid'\n",
    "paramters: all: 'C'\n",
    "           'gamma': rbr, poly, sigmoid\n",
    "           'degree': poly\n",
    "           'coef0': poly, sigmoid\n",
    "'''\n",
    "svc_params = {}\n",
    "fit_score_model(X_train, y_train, model = SVC, metric = scania_score, params = svc_params)"
   ]
  },
  {
   "cell_type": "code",
   "execution_count": null,
   "metadata": {},
   "outputs": [],
   "source": [
    "# Linear SVM\n",
    "# kernels: stick with 'linear'\n",
    "svc_params = {}\n",
    "fit_score_model(X_train, y_train, model = LinearSVC, metric = scania_score, params = svc_params)"
   ]
  },
  {
   "cell_type": "code",
   "execution_count": 108,
   "metadata": {},
   "outputs": [],
   "source": [
    "def visualize_score_by_hyperparam(score, hyperparameters):\n",
    "    # For each hyperparamter, get the model score and plot\n",
    "    \n",
    "    pass"
   ]
  },
  {
   "cell_type": "code",
   "execution_count": null,
   "metadata": {},
   "outputs": [],
   "source": []
  }
 ],
 "metadata": {
  "kernelspec": {
   "display_name": "Python 3",
   "language": "python",
   "name": "python3"
  },
  "language_info": {
   "codemirror_mode": {
    "name": "ipython",
    "version": 3
   },
   "file_extension": ".py",
   "mimetype": "text/x-python",
   "name": "python",
   "nbconvert_exporter": "python",
   "pygments_lexer": "ipython3",
   "version": "3.7.0"
  }
 },
 "nbformat": 4,
 "nbformat_minor": 2
}
