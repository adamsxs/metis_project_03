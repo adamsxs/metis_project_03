{
 "cells": [
  {
   "cell_type": "markdown",
   "metadata": {},
   "source": [
    "# Take a look at Scania Truck data.\n",
    "[Database hosted at UCI Machine Learning Repository Site](http://archive.ics.uci.edu/ml/datasets/APS+Failure+at+Scania+Trucks#)\n",
    "\n",
    "There are no label errors. However, nearly every row is missing some kind of measurement. Will need to impute the data one way or another, as dropping rows with any missing measurements leaves only 691 of 60k rows."
   ]
  },
  {
   "cell_type": "code",
   "execution_count": 1,
   "metadata": {},
   "outputs": [],
   "source": [
    "import pandas as pd\n",
    "import numpy as np\n",
    "import matplotlib.pyplot as plt\n",
    "import seaborn as sns"
   ]
  },
  {
   "cell_type": "code",
   "execution_count": 26,
   "metadata": {},
   "outputs": [],
   "source": [
    "# Original dataset has some text at the top of the csv, above the headers.\n",
    "# File below has that text removed, leaving only header row and data.\n",
    "aps = pd.read_csv('./aps_failure_training_set_no_headers.csv')"
   ]
  },
  {
   "cell_type": "code",
   "execution_count": 27,
   "metadata": {},
   "outputs": [
    {
     "name": "stdout",
     "output_type": "stream",
     "text": [
      "<class 'pandas.core.frame.DataFrame'>\n",
      "RangeIndex: 60000 entries, 0 to 59999\n",
      "Columns: 171 entries, class to eg_000\n",
      "dtypes: int64(1), object(170)\n",
      "memory usage: 78.3+ MB\n"
     ]
    }
   ],
   "source": [
    "# Nearly all data enters the dataframe as a string object.\n",
    "aps.info()"
   ]
  },
  {
   "cell_type": "code",
   "execution_count": 28,
   "metadata": {},
   "outputs": [
    {
     "data": {
      "text/plain": [
       "array(['neg', 'pos'], dtype=object)"
      ]
     },
     "execution_count": 28,
     "metadata": {},
     "output_type": "execute_result"
    }
   ],
   "source": [
    "# Checking for weird labels\n",
    "aps['class'].unique()"
   ]
  },
  {
   "cell_type": "code",
   "execution_count": 76,
   "metadata": {},
   "outputs": [
    {
     "data": {
      "text/plain": [
       "59000"
      ]
     },
     "execution_count": 76,
     "metadata": {},
     "output_type": "execute_result"
    }
   ],
   "source": [
    "# Number of negative examples\n",
    "mask = aps['class']=='neg'\n",
    "aps[mask]['class'].shape[0]"
   ]
  },
  {
   "cell_type": "code",
   "execution_count": 75,
   "metadata": {},
   "outputs": [
    {
     "data": {
      "text/plain": [
       "1000"
      ]
     },
     "execution_count": 75,
     "metadata": {},
     "output_type": "execute_result"
    }
   ],
   "source": [
    "# Number of positive examples\n",
    "mask = aps['class']!='neg'\n",
    "aps[mask]['class'].shape[0]"
   ]
  },
  {
   "cell_type": "code",
   "execution_count": 31,
   "metadata": {},
   "outputs": [],
   "source": [
    "# Create new dataframe for EDA\n",
    "# For each column in dataframe, make that column numeric\n",
    "\n",
    "X = aps.iloc[:,1:].copy(deep=True)\n",
    "y = aps['class']"
   ]
  },
  {
   "cell_type": "code",
   "execution_count": 32,
   "metadata": {},
   "outputs": [
    {
     "name": "stdout",
     "output_type": "stream",
     "text": [
      "Pre-conversion y\n",
      "object\n",
      "neg    59000\n",
      "pos     1000\n",
      "Name: class, dtype: int64\n",
      "Post-conversion y\n",
      "int64\n",
      "0    59000\n",
      "1     1000\n",
      "Name: class, dtype: int64\n"
     ]
    }
   ],
   "source": [
    "# Convert target variable to numeric\n",
    "\n",
    "print('Pre-conversion y', y.dtype, y.value_counts(), sep = '\\n')\n",
    "y = pd.Series([0 if lbl == 'neg' else 1 for lbl in y], name = 'class')\n",
    "print('Post-conversion y', y.dtype, y.value_counts(), sep = '\\n')"
   ]
  },
  {
   "cell_type": "code",
   "execution_count": 34,
   "metadata": {},
   "outputs": [
    {
     "name": "stdout",
     "output_type": "stream",
     "text": [
      "<class 'pandas.core.frame.DataFrame'>\n",
      "RangeIndex: 60000 entries, 0 to 59999\n",
      "Columns: 170 entries, aa_000 to eg_000\n",
      "dtypes: int64(1), object(169)\n",
      "memory usage: 77.8+ MB\n",
      "None\n",
      "<class 'pandas.core.frame.DataFrame'>\n",
      "RangeIndex: 60000 entries, 0 to 59999\n",
      "Columns: 170 entries, aa_000 to eg_000\n",
      "dtypes: float64(169), int64(1)\n",
      "memory usage: 77.8 MB\n",
      "None\n"
     ]
    }
   ],
   "source": [
    "# Convert columns to numeric.\n",
    "print(X.info())\n",
    "for column in X.columns:\n",
    "    X[column]= pd.to_numeric(X[column], errors = 'coerce')\n",
    "    \n",
    "print(X.info())"
   ]
  },
  {
   "cell_type": "code",
   "execution_count": 43,
   "metadata": {},
   "outputs": [
    {
     "name": "stdout",
     "output_type": "stream",
     "text": [
      "Columns above threshold: 28\n"
     ]
    },
    {
     "data": {
      "image/png": "[encoded data removed]",
      "text/plain": [
       "<Figure size 432x288 with 1 Axes>"
      ]
     },
     "metadata": {
      "needs_background": "light"
     },
     "output_type": "display_data"
    }
   ],
   "source": [
    "# How prevalent are Nan values?\n",
    "def get_nan_frac_cols(df, cutoff = 0.25):\n",
    "    '''\n",
    "    Returns column labels for columns with a NaN values fraction >= a cutoff fraction.\n",
    "    ---\n",
    "    Parameters\n",
    "    df: Pandas dataframe\n",
    "    \n",
    "    Returns\n",
    "    List of columns with NaN fraction > cutoff fraction\n",
    "    '''\n",
    "    nan_frac_vec, cols_high_nan = [], []\n",
    "    \n",
    "    for column in df.columns:\n",
    "        nan_frac = df[column][df[column].isnull()].size/df.shape[0]\n",
    "        nan_frac_vec.append(nan_frac)\n",
    "\n",
    "        if nan_frac >= cutoff:\n",
    "            cols_high_nan.append(column)\n",
    "            \n",
    "    \n",
    "    sns.scatterplot(range(df.shape[1]),nan_frac_vec, alpha = 0.9, label='data')\n",
    "    plt.plot(range(df.shape[1]), np.ones(df.shape[1])*cutoff,'r-', label='Cutoff Threshold')\n",
    "    plt.legend(loc='best')\n",
    "    plt.ylabel('Fraction of Values that are NaN')\n",
    "    plt.xlabel('Column position')\n",
    "    \n",
    "    return cols_high_nan\n",
    "\n",
    "nan_cols = get_nan_frac_cols(X, 0.15)\n",
    "print('Columns above threshold:',len(nan_cols))"
   ]
  },
  {
   "cell_type": "markdown",
   "metadata": {},
   "source": [
    "## Dealing with NaN:\n",
    "Current options:\n",
    "* drop columns with mostly nan, then drop any row with nan. How many observations do you lose?\n",
    "* experiment with sklearn.preprocessing.Imputer\n",
    "* read sklearn [imputation guide](http://scikit-learn.org/stable/modules/impute.html)\n",
    "* take mean values\n",
    "* use kNN with features that aren't null\n",
    "* determine on which features it would be reasonable to impute"
   ]
  },
  {
   "cell_type": "code",
   "execution_count": 41,
   "metadata": {},
   "outputs": [
    {
     "name": "stdout",
     "output_type": "stream",
     "text": [
      "<class 'pandas.core.frame.DataFrame'>\n",
      "Int64Index: 54143 entries, 0 to 59999\n",
      "Columns: 142 entries, aa_000 to eg_000\n",
      "dtypes: float64(141), int64(1)\n",
      "memory usage: 59.1 MB\n"
     ]
    }
   ],
   "source": [
    "#Dropping idea: Remove columns w/ NaN percent above a threshold, then drop all corresponding rows\n",
    "X_no_nan = X.drop(nan_cols, axis=1).dropna()\n",
    "X_no_nan.info()"
   ]
  },
  {
   "cell_type": "code",
   "execution_count": 44,
   "metadata": {},
   "outputs": [
    {
     "data": {
      "text/plain": [
       "[]"
      ]
     },
     "execution_count": 44,
     "metadata": {},
     "output_type": "execute_result"
    },
    {
     "data": {
      "image/png": "[encoded data removed]",
      "text/plain": [
       "<Figure size 432x288 with 1 Axes>"
      ]
     },
     "metadata": {
      "needs_background": "light"
     },
     "output_type": "display_data"
    }
   ],
   "source": [
    "get_nan_frac_cols(X_no_nan)"
   ]
  },
  {
   "cell_type": "code",
   "execution_count": 63,
   "metadata": {},
   "outputs": [
    {
     "data": {
      "text/plain": [
       "(54143,)"
      ]
     },
     "execution_count": 63,
     "metadata": {},
     "output_type": "execute_result"
    }
   ],
   "source": [
    "# Check that we still have a good amount of negative and positive classes\n",
    "y_no_nan = y[X_no_nan.index]\n",
    "y_no_nan.shape"
   ]
  },
  {
   "cell_type": "code",
   "execution_count": 69,
   "metadata": {},
   "outputs": [
    {
     "data": {
      "text/plain": [
       "405"
      ]
     },
     "execution_count": 69,
     "metadata": {},
     "output_type": "execute_result"
    }
   ],
   "source": [
    "# Number of positive classes\n",
    "y_no_nan[y_no_nan==1].sum()"
   ]
  },
  {
   "cell_type": "code",
   "execution_count": 74,
   "metadata": {},
   "outputs": [
    {
     "data": {
      "text/plain": [
       "53738"
      ]
     },
     "execution_count": 74,
     "metadata": {},
     "output_type": "execute_result"
    }
   ],
   "source": [
    "np.sum(y_no_nan==0)"
   ]
  },
  {
   "cell_type": "markdown",
   "metadata": {},
   "source": [
    "Dropping high columns with a high percentage of `NaN` values, then culling the observations with any `NaN` value still leaves 54,143 observations, down from 60,000. We also retained 142 of the 170 featurs. However, of the original 1000 positive examples, only 405 remain. The negative class still has 53,738 observations.  \n",
    "\n",
    "Percent loss, by class, when dropping NaN values:\n",
    "* Positive class: 59.5%\n",
    "* Negative class:  0.7%  \n",
    "\n",
    "Takeaways:  \n",
    "1) I still have enough examples to train on.  \n",
    "2) Since the lack of measurements disproportionately affects one class, it could be that the number of missing values is correlated with the class type, and thus should become a feature. To incorporate this, I'd need to impute values (strategically) for the observations that were eliminated."
   ]
  },
  {
   "cell_type": "code",
   "execution_count": 79,
   "metadata": {},
   "outputs": [
    {
     "data": {
      "text/plain": [
       "0.007480191345141551"
      ]
     },
     "execution_count": 79,
     "metadata": {},
     "output_type": "execute_result"
    }
   ],
   "source": []
  },
  {
   "cell_type": "code",
   "execution_count": 20,
   "metadata": {},
   "outputs": [
    {
     "data": {
      "text/plain": [
       "array([       nan, 0.9830187 , 0.79208391, 0.51863014])"
      ]
     },
     "execution_count": 20,
     "metadata": {},
     "output_type": "execute_result"
    }
   ],
   "source": []
  },
  {
   "cell_type": "markdown",
   "metadata": {},
   "source": [
    "## Adding database to SQL\n",
    "Because I don't think it's efficient to write out the 170 columns with their respective types, so I'm going to try to manipulate the columns list into an SQL table creation command."
   ]
  },
  {
   "cell_type": "code",
   "execution_count": 81,
   "metadata": {},
   "outputs": [
    {
     "name": "stdout",
     "output_type": "stream",
     "text": [
      "('aa_000 col_type', 'ab_000 col_type')\n"
     ]
    }
   ],
   "source": [
    "test = tuple(column + ' col_type' for column in X.columns[:2])\n",
    "print(test)"
   ]
  },
  {
   "cell_type": "code",
   "execution_count": 83,
   "metadata": {},
   "outputs": [
    {
     "data": {
      "text/plain": [
       "'aa_000 col_type, ab_000 col_type'"
      ]
     },
     "execution_count": 83,
     "metadata": {},
     "output_type": "execute_result"
    }
   ],
   "source": [
    "', '.join(thing for thing in test)"
   ]
  },
  {
   "cell_type": "code",
   "execution_count": null,
   "metadata": {},
   "outputs": [],
   "source": []
  }
 ],
 "metadata": {
  "kernelspec": {
   "display_name": "Python 3",
   "language": "python",
   "name": "python3"
  },
  "language_info": {
   "codemirror_mode": {
    "name": "ipython",
    "version": 3
   },
   "file_extension": ".py",
   "mimetype": "text/x-python",
   "name": "python",
   "nbconvert_exporter": "python",
   "pygments_lexer": "ipython3",
   "version": "3.7.0"
  }
 },
 "nbformat": 4,
 "nbformat_minor": 2
}
